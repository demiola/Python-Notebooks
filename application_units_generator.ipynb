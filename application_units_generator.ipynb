{
  "cells": [
    {
      "cell_type": "markdown",
      "id": "b6f032ff-95f9-4178-9c3c-cb3b31e8109d",
      "metadata": {
        "id": "b6f032ff-95f9-4178-9c3c-cb3b31e8109d"
      },
      "source": [
        "#### **Import Libraries and Define Functions**"
      ]
    },
    {
      "cell_type": "code",
      "execution_count": null,
      "id": "c9cb0384-e117-4898-a771-a9930ea9bdf6",
      "metadata": {
        "execution": {
          "iopub.execute_input": "2025-02-04T09:50:54.136101Z",
          "iopub.status.busy": "2025-02-04T09:50:54.135102Z",
          "iopub.status.idle": "2025-02-04T09:50:55.695097Z",
          "shell.execute_reply": "2025-02-04T09:50:55.694098Z",
          "shell.execute_reply.started": "2025-02-04T09:50:54.136101Z"
        },
        "id": "c9cb0384-e117-4898-a771-a9930ea9bdf6"
      },
      "outputs": [],
      "source": [
        "import pandas as pd\n",
        "import numpy as np\n",
        "import os\n",
        "from pydantic import BaseModel\n",
        "import openai\n",
        "from tqdm.notebook import tqdm\n",
        "tqdm.pandas()\n",
        "\n",
        "save_path = \"...\" # path to folder containing subfolders called Flagged Apps in Batches & Randomized Apps in Batches\n",
        "openai.api_key = '...'"
      ]
    },
    {
      "cell_type": "code",
      "execution_count": null,
      "id": "62712086-d58c-4022-a494-c0d2be2bba2c",
      "metadata": {
        "execution": {
          "iopub.execute_input": "2025-02-04T10:47:54.806545Z",
          "iopub.status.busy": "2025-02-04T10:47:54.806545Z",
          "iopub.status.idle": "2025-02-04T10:47:54.813551Z",
          "shell.execute_reply": "2025-02-04T10:47:54.812554Z",
          "shell.execute_reply.started": "2025-02-04T10:47:54.806545Z"
        },
        "id": "62712086-d58c-4022-a494-c0d2be2bba2c"
      },
      "outputs": [],
      "source": [
        "# create genAI prompt variable\n",
        "\n",
        "clu_prompt = \"AI Assistant Role: You assist a Planning Officer at the GLA. You specialize in inferring residential units from continued\\\n",
        "             (or lawful) planning applications’ descriptions. Note that changes proposed in these applications have already happened and\\\n",
        "             so your job is to infer the existing number of units and return them as the Total proposed units output. This is important\\\n",
        "             as the current use of these residential units are reported as recent completions. Follow these rules obtaining unit counts\\\n",
        "             from the descriptions:\\\n",
        "             1. Count only 'houses,' 'homes,' 'flats,' 'self-contained units,' or C3-use ‘dwellings’ unless specified in rules 2–4.\\\n",
        "             2. Count HMOs with <7 rooms (or beds or occupants) as 1 unit gained/lost; if ≥7, count HMO rooms gained/lost instead.\\\n",
        "             3. Count co-living, granny annexes (not to be confused with ancillary annexes), and older people’s apartments as residential units.\\\n",
        "             4. Do not count 'communal space', 'garages', 'habitable spaces' or ‘habitable rooms’ or 'outbuildings' as residential units.\\\n",
        "             5. Infer units only from explicit numbers like '5 flats' or ‘2 no. dwellinghouses’; assume 1 unit for phrases like 'a house'\\\n",
        "             or 'ground floor flat' unless otherwise specified.\\\n",
        "             6. Return -1 for vague terms (e.g., 'several dwellings', unquantified HMO) or unclear unit counts.\\\n",
        "             7. Do not infer unit counts from addresses; return -1 if units are unclear.\\\n",
        "             8. If the use from which the property is changing is provided, return this as the Total existing units value, otherwise set this\\\n",
        "             value as 0.\\\n",
        "             Outputs:\\\n",
        "             Generate:\\\n",
        "             1. Total proposed units,\\\n",
        "             2. Total existing units,\\\n",
        "             3. Proposed HMOs rooms (≥7 rooms),\\\n",
        "             4. Existing HMOs rooms (set to 0), and\\\n",
        "             5. A short comment (max. 150 characters) explaining ambiguities or rule applications.\".strip()\n",
        "\n",
        "prompt = \"AI Assistant Role: You assist a Planning Officer at the GLA. You specialize in detecting applications that propose changes in residential\\\n",
        "          units. From these applications, infer the number of existing units (units before proposed changes) as well as proposed units (units after\\\n",
        "          proposed changes) from applications’ descriptions based on these rules:\\\n",
        "          1. Count only 'houses,' 'homes,' 'flats,' 'self-contained units,' or C3-use ‘dwellings’ as residential units unless otherwise specified in\\\n",
        "          rules 3–5.\\\n",
        "          2. Infer units only from explicit numbers like '5 flats' or ‘2 no. dwellinghouses’; assume 1 unit for phrases like 'a house' or 'ground\\\n",
        "          floor flat' unless otherwise specified.\\\n",
        "          3. Count HMOs with <7 rooms (or beds or occupants) as 1 residential unit; if ≥7, count HMO rooms gained/lost instead.\\\n",
        "          4. Count co-living, granny annexes (not ancillary annexes), and older people’s apartments as residential units.\\\n",
        "          5. Do not count 'communal space', 'garages', 'habitable spaces' or ‘habitable rooms’ or 'outbuildings' as residential units.\\\n",
        "          6. 'Buildings' / 'properties' can contain multiple units. Do not assume residential unit counts unless these are explicitly stated (see rule\\\n",
        "          2); if vague, return -1.\\\n",
        "          7. Count C1/C2/assisted living homes as 0 residential units unless self-contained.\\\n",
        "          8. Units gained will usually be predicated by terms like 'erection', 'new build', sometimes (but not always) by 'extension'; unless demolition\\\n",
        "          is stated, units lost are zero.\\\n",
        "          9. 'Change of use' applications should have either gains or losses; if there is also a 'conversion', there should be gain as well as a loss.\\\n",
        "          10. ‘Conversions’ (e.g., reconfigurations) don’t cause unit changes unless losing or adding residential unit(s).\\\n",
        "          11. Return -1 for vague terms (e.g., 'several dwellings', unquantified HMO) or unclear unit counts.\\\n",
        "          12. Do not infer unit counts from addresses; return -1 where units are unclear.\\\n",
        "          13. Units lost may also be predicated by terms like 'demolition', 'amalgamation', 'replacement'.\\\n",
        "          14. 'Alterations' or 'remodellings' usually do not cause units changes. Assume no change unless stated otherwise.\\\n",
        "          15. Applications referencing non-C3/C4 classes (e.g., A1, B2) are not residential units unless stated otherwise.\\\n",
        "          16. For phased applications, consider only units proposed or lost in the phase described; unless total units are mentioned, in which case count\\\n",
        "          total units.\\\n",
        "          17. Ignore any 50+ character text within quotation marks, brackets, or following a colon.\\\n",
        "\n",
        "          Outputs:\\\n",
        "          Generate:\\\n",
        "          1. Total proposed units,\\\n",
        "          2. Total existing units,\\\n",
        "          3. Proposed HMOs rooms (≥7 rooms),\\\n",
        "          4. Existing HMOs rooms (≥7 rooms), and\\\n",
        "          5. A short comment (max. 150 characters) explaining ambiguities or rule applications.\".strip()"
      ]
    },
    {
      "cell_type": "code",
      "execution_count": null,
      "id": "580fbc03-d690-4a14-b73f-2c1bc75f2e5c",
      "metadata": {
        "execution": {
          "iopub.execute_input": "2025-02-04T10:59:11.628689Z",
          "iopub.status.busy": "2025-02-04T10:59:11.627690Z",
          "iopub.status.idle": "2025-02-04T10:59:11.646915Z",
          "shell.execute_reply": "2025-02-04T10:59:11.645916Z",
          "shell.execute_reply.started": "2025-02-04T10:59:11.628689Z"
        },
        "id": "580fbc03-d690-4a14-b73f-2c1bc75f2e5c"
      },
      "outputs": [],
      "source": [
        "def cleanup(df):\n",
        "    \"\"\"function to clean up datasets obtained from the database, drop non-residential applications, rename relevant columns and fill null values\"\"\"\n",
        "    print(\"Dataframe shape before cleanup: {}\".format(df.shape))\n",
        "    df['description'] = df['description'].apply(lambda x: str(x).replace(\"\\r\", \"\").replace(\"\\n\", \"\"))\n",
        "    df = df[~(df['application_type_full'].isin([\"Approval of details reserved by a condition (discharge)\",\n",
        "                                                \"Prior Approval: Development for electronic communications network\",\n",
        "                                                \"S73 Minor Material Amendment\", \"Removal/Variation of a condition\",\n",
        "                                                \"Listed building consent\", \"Non-Material Amendment\",\n",
        "                                                \"Consent to display an advertisement\", \"Householder planning permission\",\n",
        "                                                \"Householder planning & listed building consent\",\n",
        "                                                \"Prior Approval: Roof mounted solar PV on non-domestic building\",\n",
        "                                                \"Tree works: Trees in conservation areas/subject to TPOs\",\n",
        "                                                \"Prior Approval: Building for agricultural/forestry use\",\n",
        "                                                \"Prior Approval: Private road for agricultural/forestry use\",\n",
        "                                                \"Prior Approval: Change of use - agriculture to flexible commercial use\",\n",
        "                                                \"Prior Approval: Temporary use for commercial film-making\"]))]\n",
        "    df = df[~(df['description'].str.contains('non-material amendment', case=False, na=False, regex = False))]\n",
        "    df = df[~(df['description'].str.contains('planning permission', case=False, na=False, regex = False))]\n",
        "    df = df[~(df['description'].str.contains('variation', case=False, na=False, regex = False))]\n",
        "    df = df[~(df['description'].str.contains('condition', case=False, na=False, regex = False))]\n",
        "    df = df[~(df['description'].str.contains('pursuant to', case=False, na=False, regex = False))]\n",
        "    df = df[~(df['description'].str.contains('reference', case=False, na=False, regex = False))]\n",
        "    df.rename(columns = {'Total Proposed Units': 'Units Gained', 'Total Lost Units': 'Units Lost'}, inplace = True)\n",
        "    df = df.fillna(0)\n",
        "    print(\"Dataframe shape after cleanup: {}\".format(df.shape))\n",
        "    return df\n",
        "\n",
        "class Units(BaseModel):\n",
        "    \"\"\"class to format the genAI model outputs\"\"\"\n",
        "    proposed_units: int\n",
        "    existing_units: int\n",
        "    proposed_hmo_rooms: int\n",
        "    existing_hmo_rooms: int\n",
        "    comments: str\n",
        "\n",
        "def comp(given_prompt, query, model=\"gpt-4o\"):\n",
        "    \"\"\"function to take in a prompt, a query (or description) and a preferred openAI model, run the given prompt on the model and return output in Units class format\"\"\"\n",
        "    completion = openai.beta.chat.completions.parse(model = model,\n",
        "                                                    messages = [{\"role\": \"system\", \"content\": given_prompt},\n",
        "                                                                {\"role\": \"user\", \"content\": \"Description:\\n\" + query}\n",
        "                                                               ],\n",
        "                                                    response_format = Units\n",
        "                                                   )\n",
        "    event = completion.choices[0].message.parsed\n",
        "    return event\n",
        "\n",
        "def generate_ai_fields(df, clean_data = True, save_path = save_path, output_name = \"unnamed\", prompt = prompt):\n",
        "    \"\"\"Function to run genAI model on the dataframe and extract units gained, units lost, hmo rooms gained, hmo units lost and comments columns from the\\\n",
        "       outputs. Also to create columns flagging applications where genAI disagrees with the source data\"\"\"\n",
        "    if clean_data == False:\n",
        "      df = cleanup(df)\n",
        "    print(\"Processing {}\".format(output_name))\n",
        "    df['AI results'] = df.progress_apply(lambda x: comp(clu_prompt, x['description'], \"gpt-4o\") if x['application_type_full'].str.contains(\"Lawful development\", case=False, na=False, regex = False) else comp(prompt, x['description'], \"gpt-4o\"), axis = 1) # using progress_apply to show how many rows have been processed\n",
        "    df['AI Units Gained'] = df['AI results'].apply(lambda x: x.proposed_units) # extract units gained\n",
        "    df['AI Units Lost'] = df['AI results'].apply(lambda x: x.existing_units) # extract units lost\n",
        "    df['AI Units HMO Gained'] = df['AI results'].apply(lambda x: x.proposed_hmo_rooms) # extract HMO rooms gained\n",
        "    df['AI Units HMO Lost'] = df['AI results'].apply(lambda x: x.existing_hmo_rooms) # extract HMO rooms lost\n",
        "    df['AI Comments'] = df['AI results'].apply(lambda x: x.comments)\n",
        "    df = df.replace(-1, \"Indecipherable\") # replace\n",
        "    df['Same Units Gained'] = df['Units Gained'] == df['AI Units Gained']\n",
        "    df['Same Units Lost'] = df['Units Lost'] == df['AI Units Lost']\n",
        "\n",
        "    # save output on the drive (useful if processibg multiple batches to prevent data loss in case of code break)\n",
        "    df[(df['Same Units Gained'] == False) | (df['Same Units Lost'] == False)].to_csv(\n",
        "    r\"{}\\Flagged Apps in Batches\\{}.csv\".format(save_path, output_name), index = False) # export applications where ai disagrees with the source data\n",
        "    df.to_csv(r\"{}\\Randomized Apps in Batches\\{}.csv\".format(save_path, output_name), index = False) # export all ai's inferences\n",
        "\n",
        "    return df[(df['Same Units Gained'] == False) | (df['Same Units Lost'] == False)] # return output"
      ]
    },
    {
      "cell_type": "markdown",
      "id": "4bbf549d-7bc9-42f3-86a4-0c445ecfb662",
      "metadata": {
        "id": "4bbf549d-7bc9-42f3-86a4-0c445ecfb662"
      },
      "source": [
        "#### **Run Model on Decided Applications Data**"
      ]
    },
    {
      "cell_type": "code",
      "execution_count": null,
      "id": "4677f318-cd95-45db-8aba-73918d3387d3",
      "metadata": {
        "execution": {
          "iopub.execute_input": "2025-02-04T10:59:21.897622Z",
          "iopub.status.busy": "2025-02-04T10:59:21.896622Z",
          "iopub.status.idle": "2025-02-04T10:59:21.973456Z",
          "shell.execute_reply": "2025-02-04T10:59:21.972465Z",
          "shell.execute_reply.started": "2025-02-04T10:59:21.897622Z"
        },
        "id": "4677f318-cd95-45db-8aba-73918d3387d3"
      },
      "outputs": [],
      "source": [
        "# read in decided applications\n",
        "data = pd.read_csv(r\"{}/2024 AI Description Checks v2.csv\".format(save_path), encoding='unicode_escape')\n",
        "data = cleanup(data)"
      ]
    },
    {
      "cell_type": "code",
      "execution_count": null,
      "id": "126240c6-2cb7-4035-85a7-7d2172245bd8",
      "metadata": {
        "execution": {
          "iopub.execute_input": "2025-01-14T11:43:04.274657Z",
          "iopub.status.busy": "2025-01-14T11:43:04.273655Z",
          "iopub.status.idle": "2025-01-14T11:43:04.302652Z",
          "shell.execute_reply": "2025-01-14T11:43:04.301653Z",
          "shell.execute_reply.started": "2025-01-14T11:43:04.274657Z"
        },
        "id": "126240c6-2cb7-4035-85a7-7d2172245bd8"
      },
      "outputs": [],
      "source": [
        "# split the data into 8 for batch processing\n",
        "data1, data2, data3, data4, data5, data6, data7, data8 = np.split(data.sample(frac=1, random_state=42),\n",
        "                                                                  [int(.125*len(data)), int(.25*len(data)), int(.375*len(data)), int(.5*len(data)),\n",
        "                                                                   int(.625*len(data)), int(.75*len(data)), int(.875*len(data))])\n",
        "data1.shape, data2.shape, data3.shape, data4.shape, data5.shape, data6.shape, data7.shape, data8.shape"
      ]
    },
    {
      "cell_type": "code",
      "execution_count": null,
      "id": "30eefd54-1d4b-4aa4-a863-460ebe224e73",
      "metadata": {
        "execution": {
          "iopub.execute_input": "2025-01-14T11:43:09.536621Z",
          "iopub.status.busy": "2025-01-14T11:43:09.535624Z",
          "iopub.status.idle": "2025-01-14T11:43:09.546621Z",
          "shell.execute_reply": "2025-01-14T11:43:09.545621Z",
          "shell.execute_reply.started": "2025-01-14T11:43:09.536621Z"
        },
        "id": "30eefd54-1d4b-4aa4-a863-460ebe224e73"
      },
      "outputs": [],
      "source": [
        "# test that split dfs have no repeated applications (concatenated dataframe rows should equal intial dataframe rows)\n",
        "flagged_dfs = [data1, data2, data3, data4, data5, data6, data7, data8]\n",
        "pd.concat([data1, data2, data3, data4, data5, data6, data7, data8]).shape"
      ]
    },
    {
      "cell_type": "code",
      "execution_count": null,
      "id": "4df92085-7c2f-4334-9f81-fcacee9411ab",
      "metadata": {
        "execution": {
          "iopub.execute_input": "2025-01-14T12:20:10.651744Z",
          "iopub.status.busy": "2025-01-14T12:20:10.650743Z",
          "iopub.status.idle": "2025-01-14T13:56:31.596653Z",
          "shell.execute_reply": "2025-01-14T13:56:31.595532Z",
          "shell.execute_reply.started": "2025-01-14T12:20:10.651744Z"
        },
        "scrolled": true,
        "id": "4df92085-7c2f-4334-9f81-fcacee9411ab"
      },
      "outputs": [],
      "source": [
        "# generate ai fields for applications in batch dfs\n",
        "for i, df in enumerate(flagged_dfs):\n",
        "    generate_ai_fields(df, True, save_path, \"Flagged Apps - Batch {}}\".format(i))"
      ]
    },
    {
      "cell_type": "code",
      "execution_count": null,
      "id": "5bd73830-11c9-4ae9-b780-62775810505a",
      "metadata": {
        "execution": {
          "iopub.execute_input": "2025-01-14T14:01:04.049589Z",
          "iopub.status.busy": "2025-01-14T14:01:04.048588Z",
          "iopub.status.idle": "2025-01-14T14:01:04.195534Z",
          "shell.execute_reply": "2025-01-14T14:01:04.194536Z",
          "shell.execute_reply.started": "2025-01-14T14:01:04.049589Z"
        },
        "id": "5bd73830-11c9-4ae9-b780-62775810505a"
      },
      "outputs": [],
      "source": [
        "# concatenate\n",
        "flagged = pd.concat([data1, data2, data3, data4, data5, data6, data7, data8])\n",
        "# export flagged applications in single file (optional)\n",
        "flagged.to_csv(\n",
        "r\"{}\\Flagged Apps in Batches\\AI Decription Checks (2024 approved apps) - reprocessed v2.csv\".format(save_path),\n",
        "        index = False)\n",
        "# show distribution of flagged applications per planning authority\n",
        "flagged['lpa_name'].value_counts()"
      ]
    },
    {
      "cell_type": "code",
      "execution_count": null,
      "id": "50b5a796-fbe8-4c00-ad3a-ca776d77c066",
      "metadata": {
        "id": "50b5a796-fbe8-4c00-ad3a-ca776d77c066"
      },
      "outputs": [],
      "source": [
        "# !jupyter nbconvert --to html application_units_generator.ipynb"
      ]
    }
  ],
  "metadata": {
    "kernelspec": {
      "display_name": "Python 3 (ipykernel)",
      "language": "python",
      "name": "python3"
    },
    "language_info": {
      "codemirror_mode": {
        "name": "ipython",
        "version": 3
      },
      "file_extension": ".py",
      "mimetype": "text/x-python",
      "name": "python",
      "nbconvert_exporter": "python",
      "pygments_lexer": "ipython3",
      "version": "3.9.0"
    },
    "colab": {
      "provenance": []
    }
  },
  "nbformat": 4,
  "nbformat_minor": 5
}