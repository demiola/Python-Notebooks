{
  "cells": [
    {
      "cell_type": "markdown",
      "metadata": {
        "id": "aDJBjemPwf-g"
      },
      "source": [
        "### **Objective**\n",
        "\n",
        "This analysis is a continuation a prior study carried out in H1 2023 to test the Friday effect hypothesis. Initiated by a perceived lull in commercial activity on Fridays across London post-COVID, the following analysis seeks to uncover what the data says about H2 2023, identify opportunities for change, and in subsequent months, measure the effect of solutions deployed to generate more activity on Fridays. It seeks to provide a basis for discussions along the lines of\n",
        "- Is there infact less activity on Fridays compared to other days of the week?\n",
        "- If so, what are some contributing factors to this decline?\n",
        "- Is this trend sustained over the full year?\n",
        "- Is this trend more noticable in terms of footfall traffic, commercial activity or both?\n",
        "- How much of an impact could this have on business growth across London?\n",
        "\n",
        "***Keywords***\n",
        "\n",
        "- CAZ - Central Activities Zone\n",
        "- Hex - Spatial hexagons\n",
        "- MSOA - Middle Layer Super Output Area\n",
        "- LSOA - Lower Layer Super Output Area\n",
        "- BID - Business Improvement Districts\n",
        "- HS - High Streets\n",
        "- DOW - Days of the Week"
      ]
    },
    {
      "cell_type": "markdown",
      "metadata": {
        "id": "cH00JkUHwf-i"
      },
      "source": [
        "### **Set Up The Environment**"
      ]
    },
    {
      "cell_type": "code",
      "execution_count": null,
      "metadata": {
        "id": "XapL57unuAAL"
      },
      "outputs": [],
      "source": [
        "import numpy as np\n",
        "import pandas as pd\n",
        "import ipywidgets\n",
        "import plotly.express as px\n",
        "import plotly.graph_objects as go\n",
        "import plotly.io as pio\n",
        "from plotly.subplots import make_subplots\n",
        "from sklearn import linear_model\n",
        "import geopandas as gpd\n",
        "import contextily as ctx\n",
        "import numpy as np\n",
        "import matplotlib.pylab as pl\n",
        "from matplotlib.colors import ListedColormap\n",
        "from scipy.spatial.distance import cdist\n",
        "from pyspark.sql import SparkSession\n",
        "import pyspark.sql.functions as F\n",
        "import pyspark.sql.types as T\n",
        "from itertools import chain\n",
        "\n",
        "import warnings\n",
        "warnings.filterwarnings('ignore')"
      ]
    },
    {
      "cell_type": "code",
      "execution_count": null,
      "metadata": {
        "id": "znbpSQ4NvJDp"
      },
      "outputs": [],
      "source": [
        "#initialize spark context\n",
        "spark = SparkSession.builder.master(\"local[*]\").appName('Friday Effect Analysis').getOrCreate()"
      ]
    },
    {
      "cell_type": "code",
      "execution_count": null,
      "metadata": {
        "id": "X_iRg7AIwf-k"
      },
      "outputs": [],
      "source": [
        "colours = ['rgb(xx, xx, xx)', 'rgb(xx, xx, xx)', 'rgb(xx, xx, xx)', 'rgb(xx, xx, xx)',\n",
        "           'rgb(xx, xx, xx)', 'rgb(xx, xx, xx)', 'rgb(xx, xx, xx)', 'rgb(xx, xx, xx)',\n",
        "           'rgb(xx, xx, xx)', 'rgb(xx, xx, xx)']"
      ]
    },
    {
      "cell_type": "code",
      "execution_count": null,
      "metadata": {
        "id": "qz9Xxq7swf-k"
      },
      "outputs": [],
      "source": [
        "# define visualization functions\n",
        "def dropdown_plot(which_fig, data: pd.DataFrame, x_col: str, menu_options_list: list, x_axis_is_date = False, plot_type = 'bar', dropdown_type = 'dropdown'):\n",
        "  \"\"\"Plots multiple charts with common x-axis and y-axis, using one dropdown menu\n",
        "     Params\n",
        "     which_fig: fig, points to an initialised Plotly figure\n",
        "     data: pd.DataFrame, dataframe to plot figures from\n",
        "     x_col: str, column to use as x-axis\n",
        "     x_axis_is_date: boolean, if x_col is a date column\n",
        "     menu_options_list: list, containing the dropdown menu options\n",
        "     plot_type: str, type of plot to use (bar or line)\n",
        "     dropdown_type: str, type of dropdown menu to use (dropdown or button)\n",
        "  \"\"\"\n",
        "    if x_axis_is_date == True:\n",
        "        data[x_col] = pd.to_datetime(data.index)\n",
        "\n",
        "    buttons = []\n",
        "\n",
        "    # button with one option for each dataframe\n",
        "    for col in menu_options_list:\n",
        "        buttons.append(dict(method='update',\n",
        "                            label=col,\n",
        "                            visible=True,\n",
        "                            args=[{'y':[data[col]],\n",
        "                                'x':[data[x_col]],\n",
        "                                'type': plot_type}, [0]]\n",
        "                            )\n",
        "                    )\n",
        "\n",
        "    # some adjustments to the updatemenus\n",
        "    updatemenu = []\n",
        "    your_menu = dict()\n",
        "    updatemenu.append(your_menu)\n",
        "\n",
        "    updatemenu[0]['buttons'] = buttons\n",
        "    updatemenu[0]['direction'] = 'down'\n",
        "    updatemenu[0]['showactive'] = True\n",
        "    updatemenu[0]['type'] = dropdown_type\n",
        "    updatemenu[0]['yanchor'] = 'top'\n",
        "\n",
        "    which_fig.update_layout(showlegend=True, updatemenus=updatemenu)\n",
        "\n",
        "def multi_ddplot(which_fig, df_list: list, x_col: str, menu_options_col: str, button_list: list, buttonposition: list, labelposition: list, buttonheight: float, x_is_date = True):\n",
        "    \"\"\"Plots multiple charts with common x-axis and y-axis, using multiple dropdown menus\n",
        "    Params\n",
        "    which_fig: fig, point to an initialised Plotly figure\n",
        "    df_list: list, list of dataframes to plot figures from\n",
        "    x_col: str, column to use as x-axis\n",
        "    x_is_date: boolean, if x_col is a date column\n",
        "    menu_options_col: str, column containing the dropdown menu options\n",
        "    button_list: list, names for dropdown buttons (must be numerical columns in the df)\n",
        "    buttonposition: list, positions of dropdown buttons on the x-axis\n",
        "    labelposition: list, positions of labels on the x-axis\n",
        "    buttonheight: float, position of dropdown menu on the y-axis\n",
        "    \"\"\"\n",
        "\n",
        "    for df in df_list:\n",
        "        df.sort_values(by=x_col, ascending=True, inplace = True)\n",
        "        if x_is_date == True:\n",
        "            df[x_col] = pd.to_datetime(df[x_col])\n",
        "\n",
        "    # updating each button with arguments to visualise when selected\n",
        "    button_dict = dict()\n",
        "    annotation  = []\n",
        "    updatemenu  = []\n",
        "    for i, button in enumerate(button_list):\n",
        "        button_dict[button] = []\n",
        "        for cat in df_list[0][menu_options_col].unique():\n",
        "            x = []\n",
        "            y = []\n",
        "            traces = []\n",
        "            for j, df in enumerate(df_list):\n",
        "                x.append(df[df[menu_options_col] == cat][x_col])\n",
        "                y.append(df[df[menu_options_col] == cat][button])\n",
        "                traces.append(j)\n",
        "            button_dict[button].append(dict(method  = 'restyle',\n",
        "                                            label   = cat,\n",
        "                                            visible = True,\n",
        "                                            args    = [{'y':    y,\n",
        "                                                        'x':    x,\n",
        "                                                        'type': 'scatter',\n",
        "                                                        'visible': True },\n",
        "                                                       traces\n",
        "                                                       ]\n",
        "                                            )\n",
        "                                        )\n",
        "\n",
        "        updatemenu.append(dict(buttons = button_dict[button],\n",
        "                               direction = 'down',\n",
        "                               showactive = True,\n",
        "                               type = 'dropdown',\n",
        "                               x = buttonposition[i],\n",
        "                               xanchor = \"left\",\n",
        "                               y = buttonheight,\n",
        "                               yanchor = 'top'\n",
        "                               )\n",
        "                            )\n",
        "\n",
        "        annotation.append(dict(text = button_list[i],\n",
        "                               x = labelposition[i],\n",
        "                               xref = \"paper\",\n",
        "                               y = buttonheight - 0.03,\n",
        "                               yref = \"paper\",\n",
        "                               align = \"left\",\n",
        "                               showarrow = False\n",
        "                               )\n",
        "                            )\n",
        "\n",
        "    # adding dropdown menus & menu annotations to the figure\n",
        "    which_fig.update_layout(showlegend = True, updatemenus = updatemenu)\n",
        "    which_fig.update_layout(annotations = annotation)\n",
        "\n",
        "def rgb_to_rgba(rgb_value, alpha):\n",
        "    \"\"\"\n",
        "    Adds the alpha channel to an RGB Value and returns it as an RGBA Value\n",
        "    Params\n",
        "    rgb_value: Input RGB Value\n",
        "    alpha: Alpha Value to add  in range [0,1]\n",
        "\n",
        "    Return\n",
        "    RGBA Value\n",
        "    \"\"\"\n",
        "    return f\"rgba{rgb_value[3:-1]}, {alpha})\"\n",
        "\n",
        "def plot_signal(which_fig, x_signal, mean_signal, sem_signal, colour, label):\n",
        "    \"\"\"\n",
        "    Plots a mean +- SEM signal using Plotly\n",
        "    Params\n",
        "    which_fig: point to an initialised Plotly figure\n",
        "    x_signal: independent var\n",
        "    mean_signal: dependent var MEAN\n",
        "    sem_signal: dependent var SEM\n",
        "    colour: signal colour (same for line and fill)\n",
        "    label: hoverinfo label text\n",
        "    \"\"\"\n",
        "    fill_colour = rgb_to_rgba(colour, .2)\n",
        "    line_colour = rgb_to_rgba(colour, 1)\n",
        "    which_fig.add_trace(go.Scatter(x=x_signal,\n",
        "                                   y=mean_signal+sem_signal,\n",
        "                                   mode='lines',\n",
        "                                   line=dict(color='rgba(0,0,0,0)'),\n",
        "                                   showlegend=False,\n",
        "                                   hoverinfo='skip'\n",
        "                                   )\n",
        "                        )\n",
        "    which_fig.add_trace(go.Scatter(x=x_signal,\n",
        "                                   y=mean_signal-sem_signal,\n",
        "                                   mode='lines',\n",
        "                                   fill='tonexty',\n",
        "                                   fillcolor=fill_colour,\n",
        "                                   line=dict(color='rgba(0,0,0,0)'),\n",
        "                                   showlegend=False,\n",
        "                                   hoverinfo='skip'\n",
        "                                   )\n",
        "                        )\n",
        "    which_fig.add_trace(go.Scatter(x=x_signal,\n",
        "                                   y=mean_signal,\n",
        "                                   mode='lines',\n",
        "                                   line=dict(color=line_colour),\n",
        "                                   name=label\n",
        "                                   )\n",
        "                        )\n",
        "\n",
        "def plot_annotated_line(which_fig, x0, x1, y0, y1, colour, dash_type, text, textloc):\n",
        "    which_fig.add_shape(type='line',\n",
        "                        x0=x0,\n",
        "                        y0=y0,\n",
        "                        x1=x1,\n",
        "                        y1=y1,\n",
        "                        line=dict(color=colour,dash=dash_type),\n",
        "                        xref='x',\n",
        "                        yref='y'\n",
        "                        )\n",
        "    which_fig.add_trace(go.Scatter(x=[x0],\n",
        "                                   y=[y1],\n",
        "                                   text=[text],\n",
        "                                   textposition=textloc,\n",
        "                                   showlegend=False,\n",
        "                                   mode=\"text\",\n",
        "                                   hoverinfo=None,\n",
        "                                   textfont=dict(color=colour,\n",
        "                                                 size=14,\n",
        "                                                 family=\"Arial\",\n",
        "                                                )\n",
        "                                    )\n",
        "                        )\n",
        "\n",
        "def pretty_plot(which_fig, title, xlabel, ylabel):\n",
        "    which_fig.update_layout(title = dict(text=title,font = (dict(size=22))))\n",
        "\n",
        "    # which_fig.update_xaxes(showline=True,zeroline=True,zerolinewidth=2,zerolinecolor=\"rgba(200,200,200,.5)\",gridcolor=\"rgba(200,200,200,.3)\")\n",
        "    which_fig.update_xaxes(title_text=xlabel, title_font_size=15)\n",
        "    which_fig.update_yaxes(title_text=ylabel, title_font_size=15, tickfont_size=12,showline=True,zeroline=True,zerolinewidth=2,zerolinecolor=\"rgba(200,200,200,.5)\",gridcolor=\"rgba(200,200,200,.3)\")\n",
        "\n",
        "    which_fig.update_layout(\n",
        "        font_family=\"Arial\",\n",
        "        font_color=\"rgb(100,100,100)\",\n",
        "    )\n",
        "\n",
        "def size_plot(which_fig, height, width):\n",
        "    which_fig.update_layout(\n",
        "                  autosize=False,\n",
        "                  width=width,\n",
        "                  height=height,\n",
        "                  paper_bgcolor=\"rgba(0,0,0,0)\",\n",
        "                  plot_bgcolor=\"rgba(0,0,0,0)\",\n",
        "                  font_color=\"rgb(255,255,255)\")"
      ]
    },
    {
      "cell_type": "markdown",
      "metadata": {
        "id": "uH1tDcbtwf-l"
      },
      "source": [
        "### **Pre-Processing**"
      ]
    },
    {
      "cell_type": "markdown",
      "metadata": {
        "id": "VmeTxiL0wf-l"
      },
      "source": [
        "#### Lookup Files"
      ]
    },
    {
      "cell_type": "code",
      "execution_count": null,
      "metadata": {
        "id": "U9ngbmyVvYba"
      },
      "outputs": [],
      "source": [
        "# Import lookup files\n",
        "caz_quad_lookup = spark.read.option(\"header\", \"true\").csv('Q:/Projects/2019-20/Covid-19 Busyness/data/mastercard/CAZ_quad_lookup.csv')\n",
        "caz_msoa_lookup = spark.read.option(\"header\", \"true\").csv('Q:/Projects/2019-20/Covid-19 Busyness/data/reference_data/msoa_caz_noncaz_lookup.csv')\n",
        "caz_hex_lookup = spark.read.option(\"header\", \"true\").csv('Q:/Projects/2019-20/Covid-19 Busyness/data/reference_data\\Hex350_grid_HS_TC_BID_CAZ_lookup.csv')\n",
        "ref_hex_lookup = spark.read.option(\"header\", \"true\").csv('Q:/Projects/2019-20/Covid-19 Busyness/data/reference_data\\Hex350_grid_Mastercard_Zoom18_ldn_ref_lookup.csv')\n",
        "quad_hex_lookup = spark.read.option(\"header\", \"true\").csv('Q:/Projects/2019-20/Covid-19 Busyness/data/reference_data/Hex350_grid_Mastercard_Zoom18_lookup.csv')\n",
        "hex_grid_lsoa_lookup = spark.read.option(\"header\", \"true\").csv('Q:/Projects/2019-20/Covid-19 Busyness/data/reference_data/Hex350_grid_lsoa_lookup.csv')\n",
        "HS_TC_BID_hex_lookup = spark.read.option(\"header\", \"true\").csv('Q:/Projects/2019-20/Covid-19 Busyness/data/reference_data/Hex350_grid_HS_TC_BID_Bespoke_lookup.csv')\n",
        "print(\"caz_quad_lookup shape is {}\".format((caz_quad_lookup.count(), len(caz_quad_lookup.columns))))\n",
        "print(\"caz_msoa_lookup shape is {}\".format((caz_msoa_lookup.count(), len(caz_msoa_lookup.columns))))\n",
        "print(\"caz_hex_lookup shape is {}\".format((caz_hex_lookup.count(), len(caz_hex_lookup.columns))))\n",
        "print(\"ref_hex_lookup shape is {}\".format((ref_hex_lookup.count(), len(ref_hex_lookup.columns))))\n",
        "print(\"quad_hex_lookup shape is {}\".format((quad_hex_lookup.count(), len(quad_hex_lookup.columns))))\n",
        "print(\"hex_grid_lsoa_lookup shape is {}\".format((hex_grid_lsoa_lookup.count(), len(hex_grid_lsoa_lookup.columns))))\n",
        "print(\"HS_TC_BID_hex_lookup shape is {}\".format((HS_TC_BID_hex_lookup.count(), len(HS_TC_BID_hex_lookup.columns))))"
      ]
    },
    {
      "cell_type": "code",
      "execution_count": null,
      "metadata": {
        "id": "3onR0Tspwf-m"
      },
      "outputs": [],
      "source": [
        "# cleanup the lookup files\n",
        "caz_msoa_lookup = caz_msoa_lookup.withColumnRenamed('msoa', 'msoa_id')\n",
        "caz_hex_lookup = caz_hex_lookup.withColumnRenamed('Hex_ID', 'hex_id')\\\n",
        "                               .withColumnRenamed( 'CAZ', 'area')\n",
        "quad_hex_lookup = quad_hex_lookup.withColumnRenamed('Hex_ID', 'hex_id')\n",
        "ref_hex_lookup = ref_hex_lookup.withColumn('quad_id', ref_hex_lookup['quad_id'].cast(T.LongType()))\\\n",
        "                               .withColumn('hex_id', ref_hex_lookup['hex_id'].cast(T.LongType()))\n",
        "caz_hex_lookup = caz_hex_lookup.na.fill(value = 'Non-CAZ', subset = 'area')\n",
        "caz_hex_lookup = caz_hex_lookup.withColumn('hex_id', caz_hex_lookup['hex_id'].cast(T.LongType()))"
      ]
    },
    {
      "cell_type": "code",
      "execution_count": null,
      "metadata": {
        "id": "N3TqOoyFwf-n"
      },
      "outputs": [],
      "source": [
        "# Read in shapefiles\n",
        "# bt_gdf = gpd.read_file(\"Q:/Projects/2019-20/Covid-19 Busyness/data/reference_data/shapefiles/hex350_grid_GLA.shp\")\n",
        "# mc_gdf = gpd.read_file(\"Q:/Projects/2019-20/Covid-19 Busyness/Python/Mastercard 3hr processing/quad_shapefile.shp\")"
      ]
    },
    {
      "cell_type": "markdown",
      "metadata": {
        "id": "_MhMAhxtwf-n"
      },
      "source": [
        "#### Mastercard Transactions Data"
      ]
    },
    {
      "cell_type": "code",
      "execution_count": null,
      "metadata": {
        "id": "gV_2n_PSwf-n"
      },
      "outputs": [],
      "source": [
        "spend_2022 = spark.read.csv(\"Q:\\Projects/2019-20\\Covid-19 Busyness\\data\\mastercard\\Processed\\MRLI_3yr_compressed\\MRLI_3yr_compressed_2022.csv\", header=True, inferSchema=True, sep=',')\n",
        "spend_2023 = spark.read.csv(\"Q:\\Projects/2019-20\\Covid-19 Busyness\\data\\mastercard\\Processed\\MRLI_3yr_compressed\\MRLI_3yr_compressed_2023.csv\", header=True, inferSchema=True, sep=',')\n",
        "spend = spend_2022.union(spend_2023)\n",
        "spend.count(), len(spend.columns)"
      ]
    },
    {
      "cell_type": "code",
      "execution_count": null,
      "metadata": {
        "id": "y0aRL6Xvwf-n"
      },
      "outputs": [],
      "source": [
        "spend.show()"
      ]
    },
    {
      "cell_type": "code",
      "execution_count": null,
      "metadata": {
        "id": "AKwwO__Kwf-n"
      },
      "outputs": [],
      "source": [
        "# # join mastercard spend data to corr hexes and highstreets\n",
        "spend = spend.withColumn('quad_id', spend['quad_id'].cast(T.LongType()))\n",
        "spend = spend.join(quad_hex_lookup.select('quad_id', 'hex_id'), on = 'quad_id', how = 'left')\n",
        "spend = spend.join(caz_hex_lookup.select('hex_id', 'highstreet_name', 'area'), on = 'hex_id', how = 'left')\n",
        "\n",
        "# extract day, week & month columns from count_date\n",
        "spend = spend.withColumn('txn_week', F.trunc('count_date', 'week'))\\\n",
        "             .withColumn('txn_month', F.trunc('count_date', 'month'))\\\n",
        "             .withColumn(\"daynumber\", F.dayofweek(F.col('count_date')))\n",
        "day_labels = {'1': 'Sun', '2': 'Mon', '3': 'Tue', '4': 'Wed', '5': 'Thu', '6': 'Fri', '7': 'Sat'}\n",
        "mapping_expr = F.create_map([F.lit(x) for x in chain(*day_labels.items())])\n",
        "spend = spend.withColumn('day', mapping_expr[spend['daynumber']])"
      ]
    },
    {
      "cell_type": "markdown",
      "metadata": {
        "id": "YUxb0JPhwf-o"
      },
      "source": [
        "#### BT Footfall Data"
      ]
    },
    {
      "cell_type": "code",
      "execution_count": null,
      "metadata": {
        "id": "U9zcLyOXwf-o"
      },
      "outputs": [],
      "source": [
        "# read in & combine trihourly footfall for 2022 & 2023\n",
        "footfall_2023 = spark.read.csv(\"Q:\\Projects/2019-20\\Covid-19 Busyness\\data\\BT\\Processed\\hex_grid\\hex_3hourly_counts_2023.csv\", header=True, inferSchema= True)\n",
        "footfall_2022 = spark.read.csv(\"Q:\\Projects/2019-20\\Covid-19 Busyness\\data\\BT\\Processed\\hex_grid\\hex_3hourly_counts_2022.csv\", header=True, inferSchema= True)\n",
        "footfall = footfall_2022.union(footfall_2023)\n",
        "print('2023 footfall data size: ', footfall_2023.count(), len(footfall_2023.columns))\n",
        "print('2022 footfall data size: ', footfall_2022.count(), len(footfall_2022.columns))\n",
        "print('Combined footfall data size: ', footfall.count(), len(footfall.columns))"
      ]
    },
    {
      "cell_type": "code",
      "execution_count": null,
      "metadata": {
        "id": "QG96xL_Jwf-o"
      },
      "outputs": [],
      "source": [
        "#add a daynumber column to sort with\n",
        "footfall = footfall.withColumn(\"daynumber\", F.dayofweek(F.col('count_date')))\\\n",
        "                    .withColumn('week', F.weekofyear(F.col(\"count_date\")))\\\n",
        "                    .withColumn('yr', F.year(F.col(\"count_date\")))\\\n",
        "                    .withColumn(\"count_week\", F.trunc('count_date', 'week'))\\\n",
        "                    .withColumn(\"count_month\", F.trunc('count_date', 'month'))\n",
        "\n",
        "footfall = footfall.join(caz_hex_lookup.select('hex_id','area','highstreet_name'), on = 'hex_id', how='left')\n",
        "footfall.show(5)"
      ]
    },
    {
      "cell_type": "markdown",
      "metadata": {
        "id": "tsrjubzCwf-o"
      },
      "source": [
        "### **Footfall Analysis**"
      ]
    },
    {
      "cell_type": "code",
      "execution_count": null,
      "metadata": {
        "id": "xg8A_brYwf-o"
      },
      "outputs": [],
      "source": [
        "#creating an sql view of the hex footfall data\n",
        "footfall.createOrReplaceTempView('hex_footfall_View')"
      ]
    },
    {
      "cell_type": "markdown",
      "metadata": {
        "id": "69-b7Eq-wf-o"
      },
      "source": [
        "#### Daily Footfall"
      ]
    },
    {
      "cell_type": "code",
      "execution_count": null,
      "metadata": {
        "id": "fssQSuGvwf-p"
      },
      "outputs": [],
      "source": [
        "# caz_msoa_lookup = caz_msoa_lookup.toPandas()\n",
        "feb20_ff = pd.read_csv('Q:/Projects/2019-20/Covid-19 Busyness/data/O2/msoa_hourly_counts_2020-02-01_2020-02-14.csv')\n",
        "feb20_ff = feb20_ff.merge(caz_msoa_lookup, left_on = 'msoa11cd', right_on = 'msoa_id', how = 'left')\n",
        "feb20_ff = feb20_ff[['count_date', 'count_type', 'area', 'h9','h10','h11','h12','h13','h14','h15','h16','h17','h18']]\\\n",
        "                    .groupby(by = ['count_date', 'count_type', 'area']).sum(numeric_only = True).reset_index() # summing up footfall in each msoa\n",
        "feb20_ff['count_date'] = pd.to_datetime(feb20_ff['count_date'])\n",
        "feb20_ff['count_week'] = feb20_ff['count_date'].dt.to_period('W').apply(lambda r: r.start_time)\n",
        "feb20_ff['count_month'] = 'Feb 2020'\n",
        "feb20_ff['day'] = feb20_ff['count_date'].dt.isocalendar().day\n",
        "days = {1:'Mon', 2:'Tue', 3:'Wed', 4:'Thu', 5:'Fri', 6:'Sat', 7:'Sun'}\n",
        "feb20_ff['day'] = feb20_ff['day'].map(days)\n",
        "\n",
        "# getting the average\n",
        "feb20_daily_ff = pd.melt(frame = feb20_ff[feb20_ff['area'] == 'CAZ'], id_vars = ['count_date', 'count_week', 'count_month', 'day', 'count_type'],\n",
        "                         value_vars=['h9','h10','h11','h12','h13','h14','h15','h16','h17','h18'], var_name = 'hour', value_name = 'count_value') \\\n",
        "                    .groupby(by = ['count_month', 'day', 'count_type']).mean(numeric_only = True).reset_index()[['count_month', 'day', 'count_type', 'count_value']]\n",
        "feb20_daily_ff = feb20_daily_ff.pivot(index = ['count_month', 'day'], columns = 'count_type', values = 'count_value').reset_index()"
      ]
    },
    {
      "cell_type": "code",
      "execution_count": null,
      "metadata": {
        "id": "Oe3VmI5Owf-p"
      },
      "outputs": [],
      "source": [
        "may_nov_ff = spark.sql(\"SELECT day, daynumber, CASE WHEN count_month = '2022-05-01' THEN 'May 2022' \\\n",
        "                                                    WHEN count_month = '2023-11-01' THEN 'Nov 2023' \\\n",
        "                                                    ELSE count_month END count_month, count_week,\\\n",
        "                               hex_id, AVG(resident) AS Resident, AVG(worker) AS Worker, AVG(visitor) AS Visitor\\\n",
        "                        FROM hex_footfall_View\\\n",
        "                        WHERE area = 'CAZ' \\\n",
        "                        AND count_month = '2022-05-01' OR count_month = '2023-11-01'\\\n",
        "                        AND time_indicator in ('09-12', '12-15', '15-18')\\\n",
        "                        GROUP BY hex_id, count_month, count_week, day, daynumber\\\n",
        "                        ORDER BY count_month, daynumber;\")\n",
        "\n",
        "may_nov_ff = may_nov_ff.select('count_month', 'count_week', 'day', 'Resident', 'Visitor', 'Worker').toPandas()\n",
        "may_nov_ff = may_nov_ff.groupby(by = ['count_month', 'count_week', 'day']).sum(numeric_only = True).reset_index() \\\n",
        "                       .groupby(by = ['count_month', 'day']).mean(numeric_only = True).reset_index()[['count_month', 'day', 'Resident', 'Visitor', 'Worker']]\n",
        "# week_colours = ['rgb(149, 200, 216)', 'rgb(137, 207, 239)', 'rgb(115, 194, 251)', 'rgb(87, 160, 210)', 'rgb(89, 139, 175)', colours[1], 'rgb(70, 130, 180)']"
      ]
    },
    {
      "cell_type": "code",
      "execution_count": null,
      "metadata": {
        "id": "73W60KyQwf-p"
      },
      "outputs": [],
      "source": [
        "may22_daily_ff = may_nov_ff[may_nov_ff['count_month'] == 'May 2022']\n",
        "nov23_daily_ff = may_nov_ff[may_nov_ff['count_month'] == 'Nov 2023']\n",
        "\n",
        "def indexer(df: pd.DataFrame):\n",
        "    for i, cat in enumerate(['Resident', 'Visitor', 'Worker']):\n",
        "        basis = df[df['day'] == 'Wed'][cat].values[0]\n",
        "        df[cat] = df.apply(lambda x: x[2+i]/basis * 100, axis = 1)\n",
        "    day_order = {'Mon': 1, 'Tue': 2, 'Wed': 3, 'Thu': 4, 'Fri': 5, 'Sat': 6, 'Sun': 0}\n",
        "    df['day_order'] = df['day'].map(day_order)\n",
        "    df.sort_values(by = 'day_order', ascending = True, inplace = True)\n",
        "    return df\n",
        "\n",
        "monthly_daily_ff = pd.concat([indexer(feb20_daily_ff), indexer(may22_daily_ff), indexer(nov23_daily_ff)])\n",
        "monthly_daily_ff.shape"
      ]
    },
    {
      "cell_type": "code",
      "execution_count": null,
      "metadata": {
        "id": "NR-NrGB-wf-p"
      },
      "outputs": [],
      "source": [
        "for cat in ['Worker', 'Visitor', 'Resident']:\n",
        "    fig = px.bar(monthly_daily_ff, x = 'count_month', y = cat, color = 'day', barmode = 'group',\n",
        "                 hover_data =  ['day', 'count_month', cat], labels = {'day': 'Day', 'count_month': 'Count Month', cat: cat}, color_discrete_sequence = week_colours)\n",
        "    pretty_plot(fig,'<b>Daytime CAZ {} Footfall (mean per day)</b><br>(Indexed; Wed = 100%)'.format(cat), 'Day', 'Average Footfall per Hex')\n",
        "    size_plot(fig, 600, 1000)\n",
        "    fig.show()\n",
        "    # pio.write_image(fig, '<b>Daytime CAZ {} Footfall (mean per day)</b>.png'.format(cat), scale=6, width=1600, height=600)"
      ]
    },
    {
      "cell_type": "code",
      "execution_count": null,
      "metadata": {
        "id": "E0LW3WVHwf-p"
      },
      "outputs": [],
      "source": [
        "monthly_dt_footfall = spark.sql(\"SELECT count_month, day, daynumber, AVG(resident) AS Resident, AVG(worker) AS Worker, AVG(visitor) AS Visitor\\\n",
        "                                 FROM hex_footfall_View\\\n",
        "                                 WHERE area = 'CAZ' \\\n",
        "                                 AND count_month >= '2023-07-01'\\\n",
        "                                 AND time_indicator in ('06-09', '09-12', '12-15', '15-18')\\\n",
        "                                 GROUP BY count_month, day, daynumber\\\n",
        "                                 ORDER BY count_month, daynumber;\")\n",
        "\n",
        "monthly_dt_footfall = monthly_dt_footfall.select('count_month', 'day', 'Worker', 'Visitor', 'Resident').toPandas()\n",
        "week_colours = ['rgb(149, 200, 216)', 'rgb(137, 207, 239)', 'rgb(115, 194, 251)', 'rgb(87, 160, 210)', 'rgb(89, 139, 175)', colours[1], 'rgb(70, 130, 180)']\n",
        "\n",
        "for cat in ['Worker', 'Visitor', 'Resident']:\n",
        "    fig = px.bar(monthly_dt_footfall, x = 'count_month', y = cat, color = 'day', barmode = 'group',\n",
        "                 hover_data =  ['day', cat], labels = {'day': 'Day', cat: cat}, color_discrete_sequence = week_colours)\n",
        "    pretty_plot(fig,'<b>Daytime CAZ {} Footfall (mean per day)</b>'.format(cat), 'Day', 'Average Footfall per Hex')\n",
        "    size_plot(fig, 600, 1000)\n",
        "    fig.show()\n",
        "    pio.write_image(fig, '<b>Daytime CAZ {} Footfall (mean per day)</b>.png'.format(cat), scale=6, width=1600, height=600)"
      ]
    },
    {
      "cell_type": "code",
      "execution_count": null,
      "metadata": {
        "id": "9inAFiIlwf-q"
      },
      "outputs": [],
      "source": [
        "nov_ts_footfall = spark.sql(\"SELECT day, daynumber, time_indicator AS timeslot, \\\n",
        "                                    AVG(resident) AS Resident, AVG(worker) AS Worker, AVG(visitor) AS Visitor\\\n",
        "                             FROM hex_footfall_View\\\n",
        "                             WHERE area = 'CAZ' \\\n",
        "                             AND count_month = '2023-11-01'\\\n",
        "                             GROUP BY day, daynumber, time_indicator\\\n",
        "                             ORDER BY daynumber, time_indicator;\")\n",
        "\n",
        "nov_ts_footfall = nov_ts_footfall.toPandas()\n",
        "fig = px.bar(nov_ts_footfall, x = 'day', y = 'Worker', title = 'Workers in CAZ by Day & Timeslot (Nov 2023)', color= 'timeslot', barmode= 'group')\n",
        "size_plot(fig, 600, 1500)\n",
        "fig.show()"
      ]
    },
    {
      "cell_type": "code",
      "execution_count": null,
      "metadata": {
        "id": "uZGONwrZwf-q"
      },
      "outputs": [],
      "source": [
        "fig = px.bar(nov_ts_footfall, x = 'day', y = 'Visitor', title = 'Visitors in CAZ by Day & Timeslot (Nov 2023)', color= 'timeslot', barmode= 'group')\n",
        "size_plot(fig, 600, 1500)\n",
        "fig.show()"
      ]
    },
    {
      "cell_type": "markdown",
      "metadata": {
        "id": "wOW7T_lrwf-q"
      },
      "source": [
        "#### CAZ Footfall"
      ]
    },
    {
      "cell_type": "code",
      "execution_count": null,
      "metadata": {
        "id": "pga4aWy-wf-r"
      },
      "outputs": [],
      "source": [
        "hex_tod_footfall = spark.sql(\"SELECT count_date, count_week, day, CASE WHEN time_indicator IN ('06-09', '09-12', '12-15', '15-18') THEN 'daytime'\\\n",
        "                                                                       ELSE 'nighttime' END AS time_of_day, area,\\\n",
        "                                     AVG(resident) AS Resident, AVG(worker) AS Worker, AVG(visitor) AS Visitor\\\n",
        "                              FROM hex_footfall_View \\\n",
        "                              GROUP BY count_date, count_week, day, time_of_day, area\\\n",
        "                              ORDER BY count_date, time_of_day;\")\n",
        "hex_tod_footfall = hex_tod_footfall.toPandas()\n",
        "# creating the daily hex footfall dataframes in pandas\n",
        "hex_mon_todff = hex_tod_footfall[(hex_tod_footfall['day'] == 'Mon') & (hex_tod_footfall['area'] == 'CAZ')]\n",
        "hex_tue_todff = hex_tod_footfall[(hex_tod_footfall['day'] == 'Tue') & (hex_tod_footfall['area'] == 'CAZ')]\n",
        "hex_wed_todff = hex_tod_footfall[(hex_tod_footfall['day'] == 'Wed') & (hex_tod_footfall['area'] == 'CAZ')]\n",
        "hex_thu_todff = hex_tod_footfall[(hex_tod_footfall['day'] == 'Thu') & (hex_tod_footfall['area'] == 'CAZ')]\n",
        "hex_fri_todff = hex_tod_footfall[(hex_tod_footfall['day'] == 'Fri') & (hex_tod_footfall['area'] == 'CAZ')]\n",
        "\n",
        "# initializing the plot to show weds & fri footfall at daytime by default\n",
        "fig = go.Figure()\n",
        "fig.add_trace(go.Scatter(x = hex_mon_todff[hex_mon_todff['time_of_day'] == 'daytime']['count_date'], y = hex_mon_todff[hex_mon_todff['time_of_day'] == 'daytime']['Worker'], name = 'Mondays', visible = True, line=dict(color = colours[0], width = 0.8)))\n",
        "fig.add_trace(go.Scatter(x = hex_tue_todff[hex_tue_todff['time_of_day'] == 'daytime']['count_date'], y = hex_tue_todff[hex_tue_todff['time_of_day'] == 'daytime']['Worker'], name = 'Tuesday', visible = True, line=dict(color = colours[1], width = 0.8)))\n",
        "fig.add_trace(go.Scatter(x = hex_wed_todff[hex_wed_todff['time_of_day'] == 'daytime']['count_date'], y = hex_wed_todff[hex_wed_todff['time_of_day'] == 'daytime']['Worker'], name = 'Wednesdays', visible = True, line=dict(color = colours[7], width = 0.8)))\n",
        "fig.add_trace(go.Scatter(x = hex_thu_todff[hex_thu_todff['time_of_day'] == 'daytime']['count_date'], y = hex_thu_todff[hex_thu_todff['time_of_day'] == 'daytime']['Worker'], name = 'Thursday', visible = True, line=dict(color = colours[3], width = 0.8)))\n",
        "fig.add_trace(go.Scatter(x = hex_fri_todff[hex_fri_todff['time_of_day'] == 'daytime']['count_date'], y = hex_fri_todff[hex_fri_todff['time_of_day'] == 'daytime']['Worker'], name = 'Fridays', visible = True, line=dict(color = colours[4], width = 3)))\n",
        "\n",
        "# plot a dropdown chart showing worker, visitor & res footfall at each three hour period\n",
        "multi_ddplot(fig, [hex_mon_todff, hex_tue_todff, hex_wed_todff, hex_thu_todff, hex_fri_todff], 'count_date', 'time_of_day', button_list = ['Worker', 'Visitor', 'Resident'], buttonposition = [0.1, 0.4, 0.7], labelposition = [0.07, 0.385, 0.695], buttonheight = 1.15)\n",
        "\n",
        "# add plot & axis titles\n",
        "pretty_plot(fig, '<b>CAZ Weekday Footfall by Time of Day (mean per Hex)</b>','Date','Average Footfall')\n",
        "\n",
        "# show plot\n",
        "fig.show()"
      ]
    },
    {
      "cell_type": "code",
      "execution_count": null,
      "metadata": {
        "id": "1jBrzHXOwf-r"
      },
      "outputs": [],
      "source": [
        "print('Mondays have a standard deviation of ', hex_mon_todff[hex_mon_todff['time_of_day'] == 'daytime']['Worker'].std())\n",
        "print('Tuesdays have a standard deviation of ', hex_tue_todff[hex_tue_todff['time_of_day'] == 'daytime']['Worker'].std())\n",
        "print('Wednesdays have a standard deviation of ', hex_wed_todff[hex_wed_todff['time_of_day'] == 'daytime']['Worker'].std())\n",
        "print('Thursdays have a standard deviation of ', hex_thu_todff[hex_thu_todff['time_of_day'] == 'daytime']['Worker'].std())\n",
        "print('Fridays have a standard deviation of ', hex_fri_todff[hex_fri_todff['time_of_day'] == 'daytime']['Worker'].std())"
      ]
    },
    {
      "cell_type": "code",
      "execution_count": null,
      "metadata": {
        "id": "9UYwOswnwf-r"
      },
      "outputs": [],
      "source": [
        "print('Worker Footfall drops by {} percent at nighttime'.format(np.round(hex_tod_footfall[hex_tod_footfall['area'] == 'CAZ'].pivot(index = 'count_date', columns= ['time_of_day'], values = 'Worker').apply(lambda x: (x[0] - x[1])/x[0] * 100, axis = 1).mean(), 2)))\n",
        "print('Visitor Footfall drops by {} percent at nighttime'.format(np.round(hex_tod_footfall[hex_tod_footfall['area'] == 'CAZ'].pivot(index = 'count_date', columns= ['time_of_day'], values = 'Visitor').apply(lambda x: (x[0] - x[1])/x[0] * 100, axis = 1).mean(), 2)))\n",
        "print('Resident Footfall drops by {} percent at nighttime'.format(np.round(hex_tod_footfall[hex_tod_footfall['area'] == 'CAZ'].pivot(index = 'count_date', columns= ['time_of_day'], values = 'Resident').apply(lambda x: (x[0] - x[1])/x[0] * 100, axis = 1).mean(), 2)))"
      ]
    },
    {
      "cell_type": "code",
      "execution_count": null,
      "metadata": {
        "id": "0mHGT8EFwf-r"
      },
      "outputs": [],
      "source": [
        "hex_footfall = spark.sql(\"SELECT count_date, count_week, day, time_indicator, area, AVG(resident) AS Resident, AVG(worker) AS Worker, AVG(visitor) AS Visitor \\\n",
        "                          FROM hex_footfall_View \\\n",
        "                          GROUP BY count_date, count_week, day, time_indicator, area \\\n",
        "                          ORDER BY count_date, time_indicator;\")\n",
        "hex_footfall = hex_footfall.toPandas()\n",
        "# creating the daily hex footfall dataframes in pandas\n",
        "hex_mon_CAZff = hex_footfall[(hex_footfall['day'] == 'Mon') & (hex_footfall['area'] == 'CAZ')]\n",
        "hex_tue_CAZff = hex_footfall[(hex_footfall['day'] == 'Tue') & (hex_footfall['area'] == 'CAZ')]\n",
        "hex_wed_CAZff = hex_footfall[(hex_footfall['day'] == 'Wed') & (hex_footfall['area'] == 'CAZ')]\n",
        "hex_thu_CAZff = hex_footfall[(hex_footfall['day'] == 'Thu') & (hex_footfall['area'] == 'CAZ')]\n",
        "hex_fri_CAZff = hex_footfall[(hex_footfall['day'] == 'Fri') & (hex_footfall['area'] == 'CAZ')]\n",
        "\n",
        "fig = go.Figure()\n",
        "# add traces for each weekday\n",
        "fig.add_trace(go.Scatter(x = hex_mon_CAZff[hex_mon_CAZff['time_indicator'] == '12-15']['count_date'], y = hex_mon_CAZff[hex_mon_CAZff['time_indicator'] == '12-15']['Worker'], name = 'Mondays', visible = True, line=dict(color = colours[0], width = 0.8)))\n",
        "fig.add_trace(go.Scatter(x = hex_tue_CAZff[hex_tue_CAZff['time_indicator'] == '12-15']['count_date'], y = hex_tue_CAZff[hex_tue_CAZff['time_indicator'] == '12-15']['Worker'], name = 'Tuesday', visible = True, line=dict(color = colours[1], width = 0.8)))\n",
        "fig.add_trace(go.Scatter(x = hex_wed_CAZff[hex_wed_CAZff['time_indicator'] == '12-15']['count_date'], y = hex_wed_CAZff[hex_wed_CAZff['time_indicator'] == '12-15']['Worker'], name = 'Wednesdays', visible = True, line=dict(color = colours[3], width = 0.8)))\n",
        "fig.add_trace(go.Scatter(x = hex_thu_CAZff[hex_thu_CAZff['time_indicator'] == '12-15']['count_date'], y = hex_thu_CAZff[hex_thu_CAZff['time_indicator'] == '12-15']['Worker'], name = 'Thursday', visible = True, line=dict(color = colours[5], width = 0.8)))\n",
        "fig.add_trace(go.Scatter(x = hex_fri_CAZff[hex_fri_CAZff['time_indicator'] == '12-15']['count_date'], y = hex_fri_CAZff[hex_fri_CAZff['time_indicator'] == '12-15']['Worker'], name = 'Fridays', visible = True, line=dict(color = colours[4], width = 3)))\n",
        "\n",
        "# plot a dropdown chart showing worker, visitor & res footfall at each three hour period\n",
        "multi_ddplot(fig, [hex_mon_CAZff, hex_tue_CAZff, hex_wed_CAZff, hex_thu_CAZff, hex_fri_CAZff], 'count_date', 'time_indicator', button_list = ['Worker', 'Visitor', 'Resident'], buttonposition = [0.1, 0.4, 0.7], labelposition = [0.08, 0.385, 0.69], buttonheight = 1.15)\n",
        "\n",
        "# add plot & axis titles\n",
        "pretty_plot(fig, '<b>Tri-Hourly CAZ Footfall (mean per Hex)</b>','Date','Average Footfall')\n",
        "\n",
        "# show plot\n",
        "fig.show()"
      ]
    },
    {
      "cell_type": "code",
      "execution_count": null,
      "metadata": {
        "id": "kDy3EOCkwf-r"
      },
      "outputs": [],
      "source": [
        "wor_pivot = hex_footfall[hex_footfall['area'] == 'CAZ'].pivot(index = 'count_date', columns = 'time_indicator', values = 'Worker')\n",
        "vis_pivot = hex_footfall[hex_footfall['area'] == 'CAZ'].pivot(index = 'count_date', columns = 'time_indicator', values = 'Visitor')\n",
        "res_pivot = hex_footfall[hex_footfall['area'] == 'CAZ'].pivot(index = 'count_date', columns = 'time_indicator', values = 'Resident')\n",
        "\n",
        "# check time_indicator pivoted columns sequence before running the following computation\n",
        "print('Worker Footfall changes by {}% after 3AM, {}% after 6AM, {}% after 9AM, {}% after noon, {}% after 3PM, {}% after 6PM, {}% after 9PM & {}% after midnight'.format(np.round(wor_pivot.apply(lambda x: (1 - (x[0]/x[1])) * 100, axis = 1).mean(), 2),\n",
        "                                                                                                                                                                                      np.round(wor_pivot.apply(lambda x: (1 - (x[1]/x[2])) * 100, axis = 1).mean(), 2),\n",
        "                                                                                                                                                                                      np.round(wor_pivot.apply(lambda x: (1 - (x[2]/x[3])) * 100, axis = 1).mean(), 2),\n",
        "                                                                                                                                                                                      np.round(wor_pivot.apply(lambda x: (1 - (x[3]/x[4])) * 100, axis = 1).mean(), 2),\n",
        "                                                                                                                                                                                      np.round(wor_pivot.apply(lambda x: (1 - (x[4]/x[5])) * 100, axis = 1).mean(), 2),\n",
        "                                                                                                                                                                                      np.round(wor_pivot.apply(lambda x: (1 - (x[5]/x[6])) * 100, axis = 1).mean(), 2),\n",
        "                                                                                                                                                                                      np.round(wor_pivot.apply(lambda x: (1 - (x[6]/x[7])) * 100, axis = 1).mean(), 2),\n",
        "                                                                                                                                                                                      np.round(wor_pivot.apply(lambda x: (1 - (x[7]/x[0])) * 100, axis = 1).mean(), 2)))\n",
        "print('Visitor Footfall changes by {}% after 3AM, {}% after 6AM, {}% after 9AM, {}% after noon, {}% after 3PM, {}% after 6PM, {}% after 9PM & {}% after midnight'.format(np.round(vis_pivot.apply(lambda x: (1 - (x[0]/x[1])) * 100, axis = 1).mean(), 2),\n",
        "                                                                                                                                                                                        np.round(vis_pivot.apply(lambda x: (1 - (x[1]/x[2])) * 100, axis = 1).mean(), 2),\n",
        "                                                                                                                                                                                        np.round(vis_pivot.apply(lambda x: (1 - (x[2]/x[3])) * 100, axis = 1).mean(), 2),\n",
        "                                                                                                                                                                                        np.round(vis_pivot.apply(lambda x: (1 - (x[3]/x[4])) * 100, axis = 1).mean(), 2),\n",
        "                                                                                                                                                                                        np.round(vis_pivot.apply(lambda x: (1 - (x[4]/x[5])) * 100, axis = 1).mean(), 2),\n",
        "                                                                                                                                                                                        np.round(vis_pivot.apply(lambda x: (1 - (x[5]/x[6])) * 100, axis = 1).mean(), 2),\n",
        "                                                                                                                                                                                        np.round(vis_pivot.apply(lambda x: (1 - (x[6]/x[7])) * 100, axis = 1).mean(), 2),\n",
        "                                                                                                                                                                                        np.round(vis_pivot.apply(lambda x: (1 - (x[7]/x[0])) * 100, axis = 1).mean(), 2)))\n",
        "print('Resident Footfall changes by {}% after 3AM, {}% after 6AM, {}% after 9AM, {}% after noon, {}% after 3PM, {}% after 6PM, {}% after 9PM & {}% after midnight'.format(np.round(res_pivot.apply(lambda x: (1 - (x[0]/x[1])) * 100, axis = 1).mean(), 2),\n",
        "                                                                                                                                                                                          np.round(res_pivot.apply(lambda x: (1 - (x[1]/x[2])) * 100, axis = 1).mean(), 2),\n",
        "                                                                                                                                                                                          np.round(res_pivot.apply(lambda x: (1 - (x[2]/x[3])) * 100, axis = 1).mean(), 2),\n",
        "                                                                                                                                                                                          np.round(res_pivot.apply(lambda x: (1 - (x[3]/x[4])) * 100, axis = 1).mean(), 2),\n",
        "                                                                                                                                                                                          np.round(res_pivot.apply(lambda x: (1 - (x[4]/x[5])) * 100, axis = 1).mean(), 2),\n",
        "                                                                                                                                                                                          np.round(res_pivot.apply(lambda x: (1 - (x[5]/x[6])) * 100, axis = 1).mean(), 2),\n",
        "                                                                                                                                                                                          np.round(res_pivot.apply(lambda x: (1 - (x[6]/x[7])) * 100, axis = 1).mean(), 2),\n",
        "                                                                                                                                                                                          np.round(res_pivot.apply(lambda x: (1 - (x[7]/x[0])) * 100, axis = 1).mean(), 2)))"
      ]
    },
    {
      "cell_type": "markdown",
      "metadata": {
        "id": "niLhauSMwf-s"
      },
      "source": [
        "#### CAZ vs Non-CAZ Footfall"
      ]
    },
    {
      "cell_type": "code",
      "execution_count": null,
      "metadata": {
        "id": "sNVl-1LJwf-s"
      },
      "outputs": [],
      "source": [
        "monthly_dt_NCAZ_footfall = spark.sql(\"SELECT count_month, day, daynumber, AVG(resident) AS Resident, AVG(worker) AS Worker, AVG(visitor) AS Visitor\\\n",
        "                                      FROM hex_footfall_View\\\n",
        "                                      WHERE area = 'Non-CAZ' \\\n",
        "                                      AND count_month >= '2023-07-01'\\\n",
        "                                      AND time_indicator in ('06-09', '09-12', '12-15', '15-18')\\\n",
        "                                      GROUP BY count_month, day, daynumber\\\n",
        "                                      ORDER BY count_month, daynumber;\")\n",
        "\n",
        "monthly_dt_NCAZ_footfall = monthly_dt_NCAZ_footfall.select('count_month', 'day', 'Worker', 'Visitor', 'Resident').toPandas()\n",
        "\n",
        "for cat in ['Worker', 'Visitor', 'Resident']:\n",
        "    fig = px.bar(monthly_dt_NCAZ_footfall, x = 'count_month', y = cat, color = 'day', barmode = 'group',\n",
        "                 hover_data =  ['day', cat], labels = {'day': 'Day', cat: cat}, color_discrete_sequence = week_colours)\n",
        "    pretty_plot(fig,'<b>Daytime Non-CAZ {} Footfall (mean per day)</b>'.format(cat), 'Day', 'Average Footfall per Hex')\n",
        "    size_plot(fig, 600, 1000)\n",
        "    fig.show()"
      ]
    },
    {
      "cell_type": "code",
      "execution_count": null,
      "metadata": {
        "id": "kZrVn-3Fwf-s"
      },
      "outputs": [],
      "source": [
        "# To compare daytime CAZ and Non-CAZ worker footfall, we need to pivot the day column and aggregate the first value in the Worker column\n",
        "hex_CAZ_wor_todff = hex_tod_footfall[hex_tod_footfall['area'] == 'CAZ'].pivot(index = ['count_week', 'time_of_day'], columns = 'day', values = 'Worker').reset_index().sort_values(by = 'count_week')\n",
        "hex_NCAZ_wor_todff = hex_tod_footfall[hex_tod_footfall['area'] == 'Non-CAZ'].pivot(index = ['count_week', 'time_of_day'], columns = 'day', values = 'Worker').reset_index().sort_values(by = 'count_week')\n",
        "\n",
        "# initializing the plot\n",
        "fig = make_subplots(specs=[[{\"secondary_y\": True}]])\n",
        "fig.add_trace(go.Scatter(x = hex_CAZ_wor_todff[hex_CAZ_wor_todff['time_of_day'] == 'daytime']['count_week'], y = hex_CAZ_wor_todff[hex_CAZ_wor_todff['time_of_day'] == 'daytime']['Mon'], name = 'CAZ', visible = True), secondary_y = False)\n",
        "fig.add_trace(go.Scatter(x = hex_NCAZ_wor_todff[hex_NCAZ_wor_todff['time_of_day'] == 'daytime']['count_week'], y = hex_NCAZ_wor_todff[hex_NCAZ_wor_todff['time_of_day'] == 'daytime']['Mon'], name = 'Non-CAZ', visible = True), secondary_y = True)\n",
        "\n",
        "# plot a dropdown chart showing worker, visitor & res footfall at each three hour period\n",
        "multi_ddplot(fig, [hex_CAZ_wor_todff, hex_NCAZ_wor_todff], 'count_week', 'time_of_day', button_list = ['Mon', 'Tue', 'Wed', 'Thu', 'Fri', 'Sat', 'Sun'], buttonposition = [0.015, 0.165, 0.315, 0.465, 0.615, 0.765, 0.915], labelposition = [0, 0.152, 0.3, 0.457, 0.61, 0.76, 0.91], buttonheight = 1.15)\n",
        "\n",
        "# add plot & axis titles\n",
        "pretty_plot(fig, '<b>Daytime & Nighttime Worker Footfall in CAZ & Non-CAZ (mean per Hex)</b>','Date','Average Footfall')\n",
        "\n",
        "# show plot\n",
        "fig.show()"
      ]
    },
    {
      "cell_type": "code",
      "execution_count": null,
      "metadata": {
        "id": "q9luuWHdwf-s"
      },
      "outputs": [],
      "source": [
        "# To compare daytime CAZ and Non-CAZ worker footfall, we need to pivot the day column and aggregate the first value in the Worker column\n",
        "hex_CAZ_worff = hex_footfall[hex_footfall['area'] == 'CAZ'].pivot(index = ['count_week', 'time_indicator'], columns = 'day', values = 'Worker').reset_index().sort_values(by = ['count_week', 'time_indicator'])\n",
        "hex_NCAZ_worff = hex_footfall[hex_footfall['area'] == 'Non-CAZ'].pivot(index = ['count_week', 'time_indicator'], columns = 'day', values = 'Worker').reset_index().sort_values(by = ['count_week', 'time_indicator'])\n",
        "\n",
        "# initializing the plot\n",
        "fig = make_subplots(specs=[[{\"secondary_y\": True}]])\n",
        "fig.add_trace(go.Scatter(x = hex_CAZ_worff[hex_CAZ_worff['time_indicator'] == '00-03']['count_week'], y = hex_CAZ_worff[hex_CAZ_worff['time_indicator'] == '00-03']['Mon'], name = 'CAZ', visible = True))\n",
        "fig.add_trace(go.Scatter(x = hex_NCAZ_worff[hex_NCAZ_worff['time_indicator'] == '00-03']['count_week'], y = hex_NCAZ_worff[hex_NCAZ_worff['time_indicator'] == '00-03']['Mon'], name = 'Non-CAZ', visible = True), secondary_y = True)\n",
        "\n",
        "# plot a dropdown chart comparingCAZ & Non-CAZ worker footfall at each three hour period on each day of the week\n",
        "multi_ddplot(fig, [hex_CAZ_worff, hex_NCAZ_worff], 'count_week', 'time_indicator', button_list = ['Mon', 'Tue', 'Wed', 'Thu', 'Fri', 'Sat', 'Sun'], buttonposition = [0.015, 0.165, 0.315, 0.465, 0.615, 0.765, 0.915], labelposition = [0, 0.152, 0.3, 0.457, 0.61, 0.76, 0.91], buttonheight = 1.15)\n",
        "\n",
        "# add plot & axis titles\n",
        "pretty_plot(fig, '<b>Tri-Hourly Worker Footfall in CAZ & Non-CAZ (mean per Hex)</b>','Date','Average Footfall')\n",
        "\n",
        "# show plot\n",
        "fig.show()"
      ]
    },
    {
      "cell_type": "code",
      "execution_count": null,
      "metadata": {
        "id": "0SrOPuggwf-t"
      },
      "outputs": [],
      "source": [
        "hex_CAZ_worff2 = hex_tod_footfall[(hex_tod_footfall['area'] == 'CAZ') & (hex_tod_footfall['time_of_day'] == 'daytime')][['count_date', 'Worker']]\n",
        "hex_CAZ_resff = hex_tod_footfall[(hex_tod_footfall['area'] == 'CAZ') & (hex_tod_footfall['time_of_day'] == 'daytime')][['count_date', 'Resident']]\n",
        "hex_NCAZ_worff = hex_tod_footfall[(hex_tod_footfall['area'] == 'Non-CAZ') & (hex_tod_footfall['time_of_day'] == 'daytime')][['count_date', 'Worker']]\n",
        "hex_NCAZ_resff2 = hex_tod_footfall[(hex_tod_footfall['area'] == 'Non-CAZ') & (hex_tod_footfall['time_of_day'] == 'daytime')][['count_date', 'Resident']]\n",
        "\n",
        "fig = make_subplots(specs=[[{\"secondary_y\": True}]])\n",
        "fig.add_trace(go.Scatter(x = hex_CAZ_worff2['count_date'], y = hex_CAZ_worff2['Worker'], name = 'CAZ Worker', visible = True))\n",
        "fig.add_trace(go.Scatter(x = hex_NCAZ_resff2['count_date'], y = hex_NCAZ_resff2['Resident'], name = 'Non-CAZ Resident', visible = True), secondary_y= True)\n",
        "\n",
        "pretty_plot(fig, '<b>Daytime Worker Footfall in CAZ vs Resident Footfall in Non-CAZ (mean per Hex)</b>','Date','Average Footfall')\n",
        "fig.show()"
      ]
    },
    {
      "cell_type": "code",
      "execution_count": null,
      "metadata": {
        "id": "bWQwDftZwf-t"
      },
      "outputs": [],
      "source": [
        "hex_CAZ_visff = hex_tod_footfall[(hex_tod_footfall['area'] == 'CAZ') & (hex_tod_footfall['time_of_day'] == 'daytime')][['count_date', 'Visitor']]\n",
        "corr = pd.DataFrame(pd.date_range(start = \"2022-05-01\", end = \"2023-12-27\"), columns=['count_date'])\n",
        "hex_CAZ_visff['count_date'] = pd.to_datetime(hex_CAZ_visff['count_date'])\n",
        "hex_CAZ_worff2['count_date'] = pd.to_datetime(hex_CAZ_worff2['count_date'])\n",
        "hex_CAZ_resff['count_date'] = pd.to_datetime(hex_CAZ_resff['count_date'])\n",
        "hex_NCAZ_worff['count_date'] = pd.to_datetime(hex_NCAZ_worff['count_date'])\n",
        "hex_NCAZ_resff2['count_date'] = pd.to_datetime(hex_NCAZ_resff2['count_date'])\n",
        "corr = corr.merge(right = hex_CAZ_visff, on = 'count_date', how = 'left')\\\n",
        "           .merge(right = hex_CAZ_worff2, on = 'count_date', how = 'left')\\\n",
        "           .merge(right = hex_CAZ_resff, on = 'count_date', how = 'left')\\\n",
        "           .merge(right = hex_NCAZ_worff, on = 'count_date', how = 'left')\\\n",
        "           .merge(right = hex_NCAZ_resff2, on = 'count_date', how = 'left')\n",
        "corr.columns = ['count_date', 'CAZ Visitor', 'CAZ Worker', 'CAZ Resident', 'Non-CAZ Worker', 'Non-CAZ Resident']\n",
        "\n",
        "import seaborn as sns\n",
        "matrix = np.triu(corr[['CAZ Worker', 'CAZ Resident', 'Non-CAZ Worker', 'Non-CAZ Resident']].corr())\n",
        "# using the upper triangle matrix as mask\n",
        "sns.heatmap(corr[['CAZ Worker', 'CAZ Resident', 'Non-CAZ Worker', 'Non-CAZ Resident']].corr(), annot=True, mask=matrix)"
      ]
    },
    {
      "cell_type": "code",
      "execution_count": null,
      "metadata": {
        "id": "2Emn-AqEwf-t"
      },
      "outputs": [],
      "source": [
        "hex_NCAZ_res_todff = hex_tod_footfall[hex_tod_footfall['area'] == 'Non-CAZ'].pivot(index = ['count_week', 'time_of_day'], columns = 'day', values = 'Resident').reset_index().sort_values(by = 'count_week')\n",
        "\n",
        "fig = make_subplots(specs=[[{\"secondary_y\": True}]])\n",
        "fig.add_trace(go.Scatter(x = hex_CAZ_wor_todff[hex_CAZ_wor_todff['time_of_day'] == 'daytime']['count_week'], y = hex_CAZ_wor_todff[hex_CAZ_wor_todff['time_of_day'] == 'daytime']['Mon'], name = 'CAZ Worker', visible = True))\n",
        "fig.add_trace(go.Scatter(x = hex_NCAZ_res_todff[hex_NCAZ_res_todff['time_of_day'] == 'daytime']['count_week'], y = hex_NCAZ_res_todff[hex_NCAZ_res_todff['time_of_day'] == 'daytime']['Mon'], name = 'Non-CAZ Resident', visible = True), secondary_y= True)\n",
        "\n",
        "# plot a dropdown chart showing worker, visitor & res footfall at each three hour period\n",
        "multi_ddplot(fig, [hex_CAZ_wor_todff, hex_NCAZ_res_todff], 'count_week', 'time_of_day', button_list = ['Mon', 'Tue', 'Wed', 'Thu', 'Fri', 'Sat', 'Sun'], buttonposition = [0.015, 0.165, 0.315, 0.465, 0.615, 0.765, 0.915], labelposition = [0, 0.152, 0.3, 0.457, 0.61, 0.76, 0.91], buttonheight = 1.15)\n",
        "\n",
        "# add plot & axis titles\n",
        "pretty_plot(fig, '<b>Worker Footfall in CAZ vs Resident Footfall in Non-CAZ (mean per Hex)</b>','Date','Average Footfall')\n",
        "\n",
        "# show plot\n",
        "fig.show()"
      ]
    },
    {
      "cell_type": "code",
      "execution_count": null,
      "metadata": {
        "id": "1kzqfisnwf-t"
      },
      "outputs": [],
      "source": [
        "hex_NCAZ_resff = hex_footfall[hex_footfall['area'] == 'Non-CAZ']\\\n",
        "                             .pivot(index = ['count_week', 'time_indicator'], columns = 'day', values = 'Resident')\\\n",
        "                             .reset_index()\\\n",
        "                             .sort_values(by= ['count_week', 'time_indicator'])\n",
        "\n",
        "fig = make_subplots(specs=[[{\"secondary_y\": True}]])\n",
        "fig.add_trace(go.Scatter(x = hex_CAZ_worff[hex_CAZ_worff['time_indicator'] == '00-03']['count_week'], y = hex_CAZ_worff[hex_CAZ_worff['time_indicator'] == '00-03']['Mon'], name = 'CAZ Worker', visible = True))\n",
        "fig.add_trace(go.Scatter(x = hex_NCAZ_resff[hex_NCAZ_resff['time_indicator'] == '00-03']['count_week'], y = hex_NCAZ_resff[hex_NCAZ_resff['time_indicator'] == '00-03']['Mon'], name = 'Non-CAZ Resident', visible = True), secondary_y= True)\n",
        "\n",
        "# plot a dropdown chart showing worker, visitor & res footfall at each three hour period\n",
        "multi_ddplot(fig, [hex_CAZ_worff, hex_NCAZ_resff], 'count_week', 'time_indicator', button_list = ['Mon', 'Tue', 'Wed', 'Thu', 'Fri', 'Sat', 'Sun'], buttonposition = [0.015, 0.165, 0.315, 0.465, 0.615, 0.765, 0.915], labelposition = [0, 0.152, 0.3, 0.457, 0.61, 0.76, 0.91], buttonheight = 1.15)\n",
        "\n",
        "# add plot & axis titles\n",
        "pretty_plot(fig, '<b>Tri-Hourly Worker Footfall in CAZ vs Resident Footfall in Non-CAZ (mean per Hex)</b>','Date','Average Footfall')\n",
        "\n",
        "# show plot\n",
        "fig.show()"
      ]
    },
    {
      "cell_type": "markdown",
      "metadata": {
        "id": "KimxLdGVwf-t"
      },
      "source": [
        "### **Spend Analysis**"
      ]
    },
    {
      "cell_type": "code",
      "execution_count": null,
      "metadata": {
        "id": "j-pWV5KFwf-t"
      },
      "outputs": [],
      "source": [
        "spend.createOrReplaceTempView('spend_view')\n",
        "spend.show(5)"
      ]
    },
    {
      "cell_type": "markdown",
      "metadata": {
        "id": "53fhZy6Qwf-t"
      },
      "source": [
        "#### CAZ Spend"
      ]
    },
    {
      "cell_type": "code",
      "execution_count": null,
      "metadata": {
        "id": "6ekzYFQOwf-u"
      },
      "outputs": [],
      "source": [
        "fy_23_spend = spark.sql(\"SELECT txn_month, area, SUM(txn_amt) AS Spend_Value, SUM(txn_cnt) AS Spend_Frequency\\\n",
        "                            FROM spend_view\\\n",
        "                            WHERE txn_month >= '2023-01-01'\\\n",
        "                            GROUP BY txn_month, area\\\n",
        "                            ORDER BY txn_month, area;\")\n",
        "\n",
        "fy_23_spend = fy_23_spend.toPandas()\n",
        "\n",
        "fig = px.bar(fy_23_spend, x = 'txn_month', y = 'Spend_Value', color = 'area', barmode = 'group', color_discrete_sequence = colours[:2],\n",
        "             hover_data=['txn_month', 'area', 'Spend_Value'], labels={'txn_month': 'Month', 'area': 'Area', 'Spend_Value': 'Spend Value'})\n",
        "pretty_plot(fig,'<b>Monthly Total Transaction Value in 2023</b>', 'Month', 'Transactions')\n",
        "size_plot(fig, 600, 1200)\n",
        "fig.show()"
      ]
    },
    {
      "cell_type": "code",
      "execution_count": null,
      "metadata": {
        "id": "lRC5Kk0Twf-u"
      },
      "outputs": [],
      "source": [
        "fig = px.bar(fy_23_spend, x = 'txn_month', y = 'Spend_Frequency', color = 'area', barmode = 'group', color_discrete_sequence = colours[3:5],\n",
        "             hover_data = ['txn_month', 'area', 'Spend_Frequency'], labels = {'txn_month': 'Month', 'area': 'Area', 'Spend_Frequency': 'Spend Frequency'})\n",
        "pretty_plot(fig,'<b>Monthly Transaction Frequency in 2023</b>', 'Month', 'Transactions')\n",
        "size_plot(fig, 600, 1200)\n",
        "fig.show()"
      ]
    },
    {
      "cell_type": "code",
      "execution_count": null,
      "metadata": {
        "id": "GtPr9vkCwf-u"
      },
      "outputs": [],
      "source": [
        "monthly_dt_spend = spark.sql(\"SELECT txn_month, day, daynumber, year, time_of_day, AVG(Spend_Value) AS Spend_Value, AVG(Spend_Frequency) AS Spend_Frequency\\\n",
        "                              FROM (SELECT txn_month, txn_week, day, daynumber, YEAR(count_date) AS year, SUM(txn_amt) AS Spend_Value, SUM(txn_cnt) AS Spend_Frequency,\\\n",
        "                                    CASE WHEN hours in ('06-09', '09-12', '12-15', '15-18') THEN 'daytime'\\\n",
        "                                        ELSE 'nighttime' END AS time_of_day\\\n",
        "                                    FROM spend_view\\\n",
        "                                    WHERE area = 'CAZ' \\\n",
        "                                    GROUP BY txn_month, txn_week, day, daynumber, time_of_day, year)\\\n",
        "                              GROUP BY txn_month, day, daynumber, time_of_day, year\\\n",
        "                              ORDER BY txn_month, daynumber;\")\n",
        "\n",
        "monthly_dt_spend = monthly_dt_spend.select('txn_month', 'day', 'time_of_day', 'year', 'Spend_Value', 'Spend_Frequency').toPandas()\n",
        "\n",
        "for i, year in enumerate(monthly_dt_spend.year.unique()):\n",
        "    fig = px.bar(monthly_dt_spend[(monthly_dt_spend['year'] == year) & (monthly_dt_spend['time_of_day'] == 'daytime')], x = 'txn_month', y = 'Spend_Value', color = 'day', barmode = 'group',\n",
        "                 hover_data =  ['day', 'Spend_Value', 'Spend_Frequency'], labels = {'day': 'Day', 'Spend_Value': 'Spend Value', 'Spend_Frequency': 'Spend Frequency'}, color_discrete_sequence = week_colours)\n",
        "    pretty_plot(fig,'<b>Daytime CAZ Spend in {}</b>'.format(year), 'Month', 'Transactions')\n",
        "    size_plot(fig, 600, 1500)\n",
        "    fig.show()"
      ]
    },
    {
      "cell_type": "code",
      "execution_count": null,
      "metadata": {
        "id": "GNFQk1Uzwf-u"
      },
      "outputs": [],
      "source": [
        "week_colours_f = ['rgb(236, 245, 233)', 'rgb(219, 235, 213)', 'rgb(202, 225, 194)', 'rgb(186, 215, 176)', 'rgb(171, 205, 158)', colours[4], 'rgb(156, 195, 142)']\n",
        "for i, year in enumerate(monthly_dt_spend.year.unique()):\n",
        "    fig = px.bar(monthly_dt_spend[(monthly_dt_spend['year'] == year) & (monthly_dt_spend['time_of_day'] == 'daytime')], x = 'txn_month', y = 'Spend_Frequency', color = 'day', barmode = 'group',\n",
        "                 hover_data =  ['day', 'Spend_Frequency'], labels = {'day': 'Day', 'Spend_Frequency': 'Spend Frequency'}, color_discrete_sequence = week_colours_f)\n",
        "    pretty_plot(fig,'<b>Daytime CAZ Spend Frequency in {}</b>'.format(year), 'Month', 'Transactions')\n",
        "    size_plot(fig, 600, 1500)\n",
        "    fig.show()"
      ]
    },
    {
      "cell_type": "code",
      "execution_count": null,
      "metadata": {
        "id": "vSUkLnqowf-u"
      },
      "outputs": [],
      "source": [
        "for i, year in enumerate(monthly_dt_spend.year.unique()):\n",
        "    fig = px.bar(monthly_dt_spend[(monthly_dt_spend['year'] == year) & (monthly_dt_spend['time_of_day'] == 'nighttime')], x = 'txn_month', y = 'Spend_Value', color = 'day', barmode = 'group',\n",
        "                 hover_data =  ['day', 'Spend_Value', 'Spend_Frequency'], labels = {'day': 'Day', 'Spend_Value': 'Spend Value', 'Spend_Frequency': 'Spend Frequency'}, color_discrete_sequence = week_colours)\n",
        "    pretty_plot(fig,'<b>Nighttime CAZ Spend in {}</b>'.format(year), 'Month', 'Transactions')\n",
        "    size_plot(fig, 600, 1500)\n",
        "    fig.show()"
      ]
    },
    {
      "cell_type": "code",
      "execution_count": null,
      "metadata": {
        "id": "e_FGsa_3wf-u"
      },
      "outputs": [],
      "source": [
        "for i, year in enumerate(monthly_dt_spend.year.unique()):\n",
        "    fig = px.bar(monthly_dt_spend[(monthly_dt_spend['year'] == year) & (monthly_dt_spend['time_of_day'] == 'nighttime')], x = 'txn_month', y = 'Spend_Frequency', color = 'day', barmode = 'group',\n",
        "                 hover_data =  ['day', 'Spend_Frequency'], labels = {'day': 'Day', 'Spend_Frequency': 'Spend Frequency'}, color_discrete_sequence = week_colours_f)\n",
        "    pretty_plot(fig,'<b>Nighttime CAZ Spend Frequency in {}</b>'.format(year), 'Month', 'Transactions')\n",
        "    size_plot(fig, 600, 1500)\n",
        "    fig.show()"
      ]
    },
    {
      "cell_type": "code",
      "execution_count": null,
      "metadata": {
        "id": "ybEU7CW0wf-v"
      },
      "outputs": [],
      "source": [
        "hex_spend = spark.sql(\"SELECT count_date, txn_week, day, \\\n",
        "                              CASE WHEN hours in ('06-09', '09-12', '12-15', '15-18') THEN 'daytime' ELSE 'nighttime' END time_of_day, \\\n",
        "                              SUM(txn_amt) AS Spend_Value, SUM(txn_cnt) AS Spend_Frequency \\\n",
        "                        FROM spend_view\\\n",
        "                        WHERE area = 'CAZ' \\\n",
        "                        GROUP BY count_date, txn_week, day, time_of_day \\\n",
        "                        ORDER BY count_date, txn_week, time_of_day;\")\n",
        "hex_spend = hex_spend.toPandas()\n",
        "\n",
        "hex_mon_spend = hex_spend[hex_spend['day'] == 'Mon'][['count_date', 'time_of_day', 'Spend_Value', 'Spend_Frequency']]\n",
        "hex_tue_spend = hex_spend[hex_spend['day'] == 'Tue'][['count_date', 'time_of_day', 'Spend_Value', 'Spend_Frequency']]\n",
        "hex_wed_spend = hex_spend[hex_spend['day'] == 'Wed'][['count_date', 'time_of_day', 'Spend_Value', 'Spend_Frequency']]\n",
        "hex_thu_spend = hex_spend[hex_spend['day'] == 'Thu'][['count_date', 'time_of_day', 'Spend_Value', 'Spend_Frequency']]\n",
        "hex_fri_spend = hex_spend[hex_spend['day'] == 'Fri'][['count_date', 'time_of_day', 'Spend_Value', 'Spend_Frequency']]\n",
        "hex_sat_spend = hex_spend[hex_spend['day'] == 'Sat'][['count_date', 'time_of_day', 'Spend_Value', 'Spend_Frequency']]\n",
        "hex_sun_spend = hex_spend[hex_spend['day'] == 'Sun'][['count_date', 'time_of_day', 'Spend_Value', 'Spend_Frequency']]\n",
        "\n",
        "fig = go.Figure()\n",
        "fig.add_trace(go.Scatter(x = hex_mon_spend[hex_mon_spend['time_of_day'] == 'daytime']['count_date'], y = hex_mon_spend[hex_mon_spend['time_of_day'] == 'daytime']['Spend_Value'], name = 'Monday', visible = True, line=dict(color = colours[0], width = 0.8)))\n",
        "fig.add_trace(go.Scatter(x = hex_tue_spend[hex_tue_spend['time_of_day'] == 'daytime']['count_date'], y = hex_tue_spend[hex_tue_spend['time_of_day'] == 'daytime']['Spend_Value'], name = 'Tuesday', visible = True, line=dict(color = colours[1], width = 0.8)))\n",
        "fig.add_trace(go.Scatter(x = hex_wed_spend[hex_wed_spend['time_of_day'] == 'daytime']['count_date'], y = hex_wed_spend[hex_wed_spend['time_of_day'] == 'daytime']['Spend_Value'], name = 'Wednesday', visible = True, line=dict(color = colours[7], width = 0.8)))\n",
        "fig.add_trace(go.Scatter(x = hex_thu_spend[hex_thu_spend['time_of_day'] == 'daytime']['count_date'], y = hex_thu_spend[hex_thu_spend['time_of_day'] == 'daytime']['Spend_Value'], name = 'Thursday', visible = True, line=dict(color = colours[3], width = 0.8)))\n",
        "fig.add_trace(go.Scatter(x = hex_fri_spend[hex_fri_spend['time_of_day'] == 'daytime']['count_date'], y = hex_fri_spend[hex_fri_spend['time_of_day'] == 'daytime']['Spend_Value'], name = 'Friday', visible = True, line=dict(color = colours[4], width = 3)))\n",
        "fig.add_trace(go.Scatter(x = hex_sat_spend[hex_sat_spend['time_of_day'] == 'daytime']['count_date'], y = hex_sat_spend[hex_sat_spend['time_of_day'] == 'daytime']['Spend_Value'], name = 'Saturday', visible = True, line=dict(color = colours[5], width = 0.8)))\n",
        "fig.add_trace(go.Scatter(x = hex_sun_spend[hex_sun_spend['time_of_day'] == 'daytime']['count_date'], y = hex_sun_spend[hex_sun_spend['time_of_day'] == 'daytime']['Spend_Value'], name = 'Sunday', visible = True, line=dict(color = colours[6], width = 0.8)))\n",
        "\n",
        "multi_ddplot(fig, [hex_mon_spend, hex_tue_spend, hex_wed_spend, hex_thu_spend, hex_fri_spend, hex_sat_spend, hex_sun_spend], 'count_date', 'time_of_day', button_list = ['Spend_Value', 'Spend_Frequency'], buttonposition = [0.1, 0.7], labelposition = [0.04, 0.69], buttonheight = 1.15)\n",
        "\n",
        "pretty_plot(fig, '<b>CAZ Transactions (Sum)</b>','Date','Transactions')\n",
        "fig.show()"
      ]
    },
    {
      "cell_type": "code",
      "execution_count": null,
      "metadata": {
        "id": "RZi-6o82wf-v"
      },
      "outputs": [],
      "source": [
        "hex_dt_spend = pd.melt(hex_spend[hex_spend['time_of_day'] == 'daytime'], id_vars=['txn_week', 'day'],\n",
        "                       value_vars=['Spend_Value', 'Spend_Frequency'], var_name = 'cnt_type', value_name = 'cnt_value')\\\n",
        "                 .pivot(index = ['txn_week', 'cnt_type'], columns='day', values='cnt_value').reset_index()\n",
        "hex_nt_spend = pd.melt(hex_spend[hex_spend['time_of_day'] == 'nighttime'], id_vars=['txn_week', 'day'],\n",
        "                       value_vars=['Spend_Value','Spend_Frequency'], var_name = 'cnt_type', value_name = 'cnt_value')\\\n",
        "                 .pivot(index = ['txn_week', 'cnt_type'], columns='day', values='cnt_value').reset_index()\n",
        "hex_spend_comp = hex_dt_spend.merge(hex_nt_spend, how = 'left', on = ['txn_week', 'cnt_type'], suffixes = ('_dt', '_nt'))\n",
        "hex_spend_comp['Mon_var_pc'] = np.round(hex_spend_comp['Mon_nt']/hex_spend_comp['Mon_dt'] * 100, 2)\n",
        "hex_spend_comp['Tue_var_pc'] = np.round(hex_spend_comp['Tue_nt']/hex_spend_comp['Tue_dt'] * 100, 2)\n",
        "hex_spend_comp['Wed_var_pc'] = np.round(hex_spend_comp['Wed_nt']/hex_spend_comp['Wed_dt'] * 100, 2)\n",
        "hex_spend_comp['Thu_var_pc'] = np.round(hex_spend_comp['Thu_nt']/hex_spend_comp['Thu_dt'] * 100, 2)\n",
        "hex_spend_comp['Fri_var_pc'] = np.round(hex_spend_comp['Fri_nt']/hex_spend_comp['Fri_dt'] * 100, 2)\n",
        "\n",
        "fig = go.Figure()\n",
        "fig.add_trace(go.Scatter(x = hex_spend_comp[hex_spend_comp['cnt_type'] == 'Spend_Value']['txn_week'], y = hex_spend_comp[hex_spend_comp['cnt_type'] == 'Spend_Value']['Mon_var_pc'], name = 'Monday', visible = True, line=dict(color = colours[0], width = 0.8)))\n",
        "fig.add_trace(go.Scatter(x = hex_spend_comp[hex_spend_comp['cnt_type'] == 'Spend_Value']['txn_week'], y = hex_spend_comp[hex_spend_comp['cnt_type'] == 'Spend_Value']['Tue_var_pc'], name = 'Tuesday', visible = True, line=dict(color = colours[1], width = 0.8)))\n",
        "fig.add_trace(go.Scatter(x = hex_spend_comp[hex_spend_comp['cnt_type'] == 'Spend_Value']['txn_week'], y = hex_spend_comp[hex_spend_comp['cnt_type'] == 'Spend_Value']['Wed_var_pc'], name = 'Wednesday', visible = True, line=dict(color = colours[7], width = 0.8)))\n",
        "fig.add_trace(go.Scatter(x = hex_spend_comp[hex_spend_comp['cnt_type'] == 'Spend_Value']['txn_week'], y = hex_spend_comp[hex_spend_comp['cnt_type'] == 'Spend_Value']['Thu_var_pc'], name = 'Thursday', visible = True, line=dict(color = colours[3], width = 0.8)))\n",
        "fig.add_trace(go.Scatter(x = hex_spend_comp[hex_spend_comp['cnt_type'] == 'Spend_Value']['txn_week'], y = hex_spend_comp[hex_spend_comp['cnt_type'] == 'Spend_Value']['Fri_var_pc'], name = 'Friday', visible = True, line=dict(color = colours[4], width = 3)))\n",
        "buttons = []\n",
        "# button with one option for each dataframe\n",
        "for col in ['Spend_Value','Spend_Frequency']:\n",
        "    x = []\n",
        "    y = []\n",
        "    traces = []\n",
        "    for j, day in enumerate(['Mon', 'Tue', 'Wed', 'Thu', 'Fri']):\n",
        "        x.append(hex_spend_comp[hex_spend_comp['cnt_type'] == col]['txn_week'])\n",
        "        y.append(hex_spend_comp[hex_spend_comp['cnt_type'] == col][day+'_var_pc'])\n",
        "        traces.append(j)\n",
        "    buttons.append(dict(method='restyle',\n",
        "                        label=col,\n",
        "                        visible=True,\n",
        "                        args=[{'y': y,\n",
        "                               'x': x,\n",
        "                               'type': 'scatter'}, traces]))\n",
        "\n",
        "# some adjustments to the updatemenus\n",
        "updatemenu = [dict(buttons = buttons, direction = 'down', showactive = True, type = 'buttons', yanchor = 'top')]\n",
        "fig.update_layout(showlegend = True, updatemenus = updatemenu)\n",
        "pretty_plot(fig, '<b>Nighttime Spend Indexed to Daytime Spend</b>', 'Week', 'Nighttime Indexed to Daytime')\n",
        "fig.show()"
      ]
    },
    {
      "cell_type": "code",
      "execution_count": null,
      "metadata": {
        "id": "gauVnuaywf-v"
      },
      "outputs": [],
      "source": [
        "hex_tsspend = spark.sql(\"SELECT count_date, txn_week, day, daynumber, hours, \\\n",
        "                                SUM(txn_amt) AS Spend_Value, SUM(txn_cnt) AS Spend_Frequency \\\n",
        "                        FROM Spend_View\\\n",
        "                        WHERE area = 'CAZ' \\\n",
        "                        GROUP BY count_date, txn_week, day, daynumber, hours \\\n",
        "                        ORDER BY count_date, txn_week, daynumber, hours;\")\n",
        "hex_tsspend = hex_tsspend.toPandas()\n",
        "\n",
        "hex_mon_tsspend = hex_tsspend[hex_tsspend['day'] == 'Mon'][['count_date', 'hours', 'Spend_Value', 'Spend_Frequency']]\n",
        "hex_tue_tsspend = hex_tsspend[hex_tsspend['day'] == 'Tue'][['count_date', 'hours', 'Spend_Value', 'Spend_Frequency']]\n",
        "hex_wed_tsspend = hex_tsspend[hex_tsspend['day'] == 'Wed'][['count_date', 'hours', 'Spend_Value', 'Spend_Frequency']]\n",
        "hex_thu_tsspend = hex_tsspend[hex_tsspend['day'] == 'Thu'][['count_date', 'hours', 'Spend_Value', 'Spend_Frequency']]\n",
        "hex_fri_tsspend = hex_tsspend[hex_tsspend['day'] == 'Fri'][['count_date', 'hours', 'Spend_Value', 'Spend_Frequency']]\n",
        "\n",
        "fig = go.Figure()\n",
        "fig.add_trace(go.Scatter(x = hex_mon_tsspend[hex_mon_tsspend['hours'] == '00-03']['count_date'], y = hex_mon_tsspend[hex_mon_tsspend['hours'] == '00-03']['Spend_Value'], name = 'Monday', visible = True))\n",
        "fig.add_trace(go.Scatter(x = hex_tue_tsspend[hex_tue_tsspend['hours'] == '00-03']['count_date'], y = hex_tue_tsspend[hex_tue_tsspend['hours'] == '00-03']['Spend_Value'], name = 'Tuesday', visible = True))\n",
        "fig.add_trace(go.Scatter(x = hex_wed_tsspend[hex_wed_tsspend['hours'] == '00-03']['count_date'], y = hex_wed_tsspend[hex_wed_tsspend['hours'] == '00-03']['Spend_Value'], name = 'Wednesday', visible = True))\n",
        "fig.add_trace(go.Scatter(x = hex_thu_tsspend[hex_thu_tsspend['hours'] == '00-03']['count_date'], y = hex_thu_tsspend[hex_thu_tsspend['hours'] == '00-03']['Spend_Value'], name = 'Thursday', visible = True))\n",
        "fig.add_trace(go.Scatter(x = hex_fri_tsspend[hex_fri_tsspend['hours'] == '00-03']['count_date'], y = hex_fri_tsspend[hex_fri_tsspend['hours'] == '00-03']['Spend_Value'], name = 'Friday', visible = True, line=dict(color = colours[4], width = 3)))\n",
        "\n",
        "multi_ddplot(fig, [hex_mon_tsspend, hex_tue_tsspend, hex_wed_tsspend, hex_thu_tsspend, hex_fri_tsspend], 'count_date', 'hours',\n",
        "             button_list = ['Spend_Value', 'Spend_Frequency'], buttonposition = [0.1, 0.6], labelposition = [0.03, 0.55], buttonheight = 1.15)\n",
        "\n",
        "pretty_plot(fig, '<b>Tri-Hourly CAZ Transactions per Day (Sum)</b>','Date','Transactions')\n",
        "fig.show()"
      ]
    },
    {
      "cell_type": "code",
      "execution_count": null,
      "metadata": {
        "id": "ZAjjCBUpwf-v"
      },
      "outputs": [],
      "source": [
        "hex_0003_spend = hex_tsspend[hex_tsspend['hours'] == '00-03'][['txn_week', 'day', 'Spend_Value', 'Spend_Frequency']]\n",
        "hex_0306_spend = hex_tsspend[hex_tsspend['hours'] == '03-06'][['txn_week', 'day', 'Spend_Value', 'Spend_Frequency']]\n",
        "hex_0609_spend = hex_tsspend[hex_tsspend['hours'] == '06-09'][['txn_week', 'day', 'Spend_Value', 'Spend_Frequency']]\n",
        "hex_0912_spend = hex_tsspend[hex_tsspend['hours'] == '09-12'][['txn_week', 'day', 'Spend_Value', 'Spend_Frequency']]\n",
        "hex_1215_spend = hex_tsspend[hex_tsspend['hours'] == '12-15'][['txn_week', 'day', 'Spend_Value', 'Spend_Frequency']]\n",
        "hex_1518_spend = hex_tsspend[hex_tsspend['hours'] == '15-18'][['txn_week', 'day', 'Spend_Value', 'Spend_Frequency']]\n",
        "hex_1821_spend = hex_tsspend[hex_tsspend['hours'] == '18-21'][['txn_week', 'day', 'Spend_Value', 'Spend_Frequency']]\n",
        "hex_2124_spend = hex_tsspend[hex_tsspend['hours'] == '21-24'][['txn_week', 'day', 'Spend_Value', 'Spend_Frequency']]\n",
        "\n",
        "fig = go.Figure()\n",
        "fig.add_trace(go.Scatter(x = hex_0003_spend[hex_0003_spend['day'] == 'Mon']['txn_week'], y = hex_0003_spend[hex_0003_spend['day'] == 'Mon']['Spend_Value'],\n",
        "                         name = '00-03', visible = True))\n",
        "fig.add_trace(go.Scatter(x = hex_0306_spend[hex_0306_spend['day'] == 'Mon']['txn_week'], y = hex_0306_spend[hex_0306_spend['day'] == 'Mon']['Spend_Value'],\n",
        "                         name = '03-06', visible = True))\n",
        "fig.add_trace(go.Scatter(x = hex_0609_spend[hex_0609_spend['day'] == 'Mon']['txn_week'], y = hex_0609_spend[hex_0609_spend['day'] == 'Mon']['Spend_Value'],\n",
        "                         name = '06-09', visible = True))\n",
        "fig.add_trace(go.Scatter(x = hex_0912_spend[hex_0912_spend['day'] == 'Mon']['txn_week'], y = hex_0912_spend[hex_0912_spend['day'] == 'Mon']['Spend_Value'],\n",
        "                         name = '09-12', visible = True))\n",
        "fig.add_trace(go.Scatter(x = hex_1215_spend[hex_1215_spend['day'] == 'Mon']['txn_week'], y = hex_1215_spend[hex_1215_spend['day'] == 'Mon']['Spend_Value'],\n",
        "                         name = '12-15', visible = True))\n",
        "fig.add_trace(go.Scatter(x = hex_1518_spend[hex_1518_spend['day'] == 'Mon']['txn_week'], y = hex_1518_spend[hex_1518_spend['day'] == 'Mon']['Spend_Value'],\n",
        "                         name = '15-18', visible = True))\n",
        "fig.add_trace(go.Scatter(x = hex_1821_spend[hex_1821_spend['day'] == 'Mon']['txn_week'], y = hex_1821_spend[hex_1821_spend['day'] == 'Mon']['Spend_Value'],\n",
        "                         name = '18-21', visible = True))\n",
        "fig.add_trace(go.Scatter(x = hex_2124_spend[hex_2124_spend['day'] == 'Mon']['txn_week'], y = hex_2124_spend[hex_2124_spend['day'] == 'Mon']['Spend_Value'],\n",
        "                         name = '21-24', visible = True))\n",
        "\n",
        "multi_ddplot(which_fig = fig, df_list = [hex_0003_spend, hex_0306_spend, hex_0609_spend, hex_0912_spend, hex_1215_spend, hex_1518_spend, hex_1821_spend,hex_2124_spend],\n",
        "             x_col = 'txn_week', menu_options_col = 'day', button_list = ['Spend_Value', 'Spend_Frequency'],\n",
        "             buttonposition = [0.1, 0.6], labelposition = [0.03, 0.55], buttonheight = 1.15)\n",
        "\n",
        "pretty_plot(fig, '<b>CAZ Transactions by Timeslot (Sum)</b>','Week','Transactions')\n",
        "fig.show()"
      ]
    },
    {
      "cell_type": "markdown",
      "metadata": {
        "id": "XEo9IkZMwf-v"
      },
      "source": [
        "### **Daytime CAZ Footfall & Spend Comparison**"
      ]
    },
    {
      "cell_type": "code",
      "execution_count": null,
      "metadata": {
        "id": "_of6ebvzwf-w"
      },
      "outputs": [],
      "source": [
        "hex_CAZ_visff = hex_tod_footfall[(hex_tod_footfall['area'] == 'CAZ') & (hex_tod_footfall['time_of_day'] == 'daytime')][['count_date', 'Visitor']]\n",
        "hex_NCAZ_worff2 = hex_tod_footfall[(hex_tod_footfall['area'] == 'Non-CAZ') & (hex_tod_footfall['time_of_day'] == 'daytime')][['count_date', 'Worker']]\n",
        "corr = pd.DataFrame(pd.date_range(start = \"2022-05-01\", end = \"2023-12-31\"), columns=['count_date'])\n",
        "hex_CAZ_visff['count_date'] = pd.to_datetime(hex_CAZ_visff['count_date'])\n",
        "hex_CAZ_worff2['count_date'] = pd.to_datetime(hex_CAZ_worff2['count_date'])\n",
        "# hex_CAZ_resff['count_date'] = pd.to_datetime(hex_CAZ_resff['count_date'])\n",
        "# hex_NCAZ_worff2['count_date'] = pd.to_datetime(hex_NCAZ_worff2['count_date'])\n",
        "corr = corr.merge(right = hex_CAZ_visff, on = 'count_date', how = 'left')\\\n",
        "           .merge(right = hex_CAZ_worff2, on = 'count_date', how = 'left')\n",
        "corr.columns = ['count_date', 'CAZ Visitor', 'CAZ Worker']"
      ]
    },
    {
      "cell_type": "code",
      "execution_count": null,
      "metadata": {
        "id": "5et-cgJxwf-w"
      },
      "outputs": [],
      "source": [
        "hex_daily_spend = hex_spend[hex_spend['time_of_day'] == 'daytime'][['count_date', 'Spend_Value', 'Spend_Frequency']]\n",
        "hex_daily_spend['count_date'] = pd.to_datetime(hex_daily_spend['count_date'])\n",
        "corr = corr.merge(right = hex_daily_spend, on = 'count_date', how = 'left')\n",
        "corr.columns = ['count_date', 'CAZ Visitor', 'CAZ Worker', 'CAZ Spend Value', 'CAZ Spend Frequency']\n",
        "corr['day'] = corr['count_date'].dt.isocalendar().day\n",
        "days = {1:'Mon', 2:'Tue', 3:'Wed', 4:'Thu', 5:'Fri', 6:'Sat', 7:'Sun'}\n",
        "corr['day'] = corr['day'].map(days)\n",
        "# corr.drop('count_date', axis = 1, inplace = True)\n",
        "matrix = np.triu(corr[corr['CAZ Spend Value'].notnull()][['CAZ Visitor', 'CAZ Worker', 'CAZ Spend Value', 'CAZ Spend Frequency']].corr())\n",
        "# using the upper triangle matrix as mask\n",
        "fig = sns.heatmap(corr[corr['CAZ Worker'].notnull()][['CAZ Visitor', 'CAZ Worker', 'CAZ Spend Value', 'CAZ Spend Frequency']].corr(), annot=True, mask=matrix)\n",
        "fig.set_title('Correlation Heatmap')"
      ]
    },
    {
      "cell_type": "code",
      "execution_count": null,
      "metadata": {
        "id": "JDdrnhcTwf-w"
      },
      "outputs": [],
      "source": [
        "week_colours = ['rgb(238,245,251)', 'rgb(226,238,248)', 'rgb(197,220,242)', 'rgb(168,203,235)', 'rgb(139,185,229)', colours[1], 'rgb(109,167,222)']\n",
        "fig = px.scatter(corr[(corr['day'].isin(['Wed', 'Fri']))], y = 'CAZ Spend Value', x = 'CAZ Visitor', color_discrete_sequence = week_colours[4:6], color='day')\n",
        "fig.add_shape(type = 'line', y0 = 420000, x0 = 500, y1 = 1080000, x1 = 3200, line = dict(color = \"rgba(100,100,100,1)\", dash = 'solid', width = 3), xref = 'x', yref = 'y')\n",
        "pretty_plot(fig, '<b>Daytime CAZ Visitor vs Spend Value</b>', '', 'Total Transaction Value')\n",
        "size_plot(fig, 600, 750)\n",
        "fig.update_layout(font_color=\"rgb(0, 0, 0)\", plot_bgcolor = 'rgba(255, 255, 255, 0)',\n",
        "                  paper_bgcolor = 'rgba(255, 255, 255, 0)', xaxis = dict(showgrid = False, showticklabels = False), yaxis = dict(showgrid = False, showticklabels = False))\n",
        "fig.show()\n",
        "pio.write_image(fig, file = 'Daytime CAZ Visitor vs Spend Value.png', format = 'png', scale=6, width=500, height=600)"
      ]
    },
    {
      "cell_type": "code",
      "execution_count": null,
      "metadata": {
        "id": "24fVMA3Dwf-w"
      },
      "outputs": [],
      "source": [
        "# fig = px.scatter(corr, x = 'CAZ Visitor', y = 'CAZ Spend Frequency')\n",
        "# size_plot(fig, 600, 750)\n",
        "# fig.update_layout(title = dict(text = '<b>Correlation Between Daytime CAZ Visitor Footfall & Spend Frequency</b>', font = (dict(size=22))))\n",
        "# fig.show()"
      ]
    },
    {
      "cell_type": "code",
      "execution_count": null,
      "metadata": {
        "id": "S3U30BIMwf-w"
      },
      "outputs": [],
      "source": [
        "corr.head()"
      ]
    },
    {
      "cell_type": "code",
      "execution_count": null,
      "metadata": {
        "id": "SXiVyBckwf-w"
      },
      "outputs": [],
      "source": [
        "fig = px.scatter(corr[(corr['day'].isin(['Wed', 'Fri']))], y = 'CAZ Spend Frequency', x = 'CAZ Worker', color_discrete_sequence = week_colours[4:6], color='day')\n",
        "fig.add_shape(type = 'line', y0 = 600000, x0 = 500, y1 = 1400000, x1 = 2400, line = dict(color = \"rgba(100,100,100,1)\", dash = 'solid', width = 3), xref = 'x', yref = 'y')\n",
        "pretty_plot(fig, '<b>Daytime CAZ Worker vs Spend Frequency</b>', '', 'Number of Transactions')\n",
        "size_plot(fig, 600, 750)\n",
        "fig.update_layout(font_color=\"rgb(0, 0, 0)\", plot_bgcolor = 'rgba(255, 255, 255, 0)',\n",
        "                  paper_bgcolor = 'rgba(255, 255, 255, 0)', xaxis = dict(showgrid = False, showticklabels = False), yaxis = dict(showgrid = False, showticklabels = False))\n",
        "fig.show()\n",
        "pio.write_image(fig, file = 'Daytime CAZ Worker vs Spend Frequency.png', format = 'png', scale=6, width=500, height=600)"
      ]
    },
    {
      "cell_type": "code",
      "execution_count": null,
      "metadata": {
        "id": "0dwurPkSwf-w"
      },
      "outputs": [],
      "source": [
        "fig = px.scatter(corr[~(corr['day'].isin(['Sat', 'Sun']))], x = 'CAZ Spend Frequency', y = 'CAZ Spend Value', color_discrete_sequence = week_colours[1:], color='day')\n",
        "fig.add_shape(type = 'line', x0 = 700000, y0 = 400000, x1 = 1350000, y1 = 1100000, line = dict(color = \"rgba(100,100,100,1)\", dash = 'solid', width = 3), xref = 'x', yref = 'y')\n",
        "pretty_plot(fig, '<b>Daytime Spend Value vs Spend Frequency</b>', '', 'Total Transaction Value')\n",
        "size_plot(fig, 600, 750)\n",
        "fig.update_layout(font_color=\"rgb(0, 0, 0)\", plot_bgcolor = 'rgba(255, 255, 255, 0)',\n",
        "                  paper_bgcolor = 'rgba(255, 255, 255, 0)', xaxis = dict(showgrid = False, showticklabels = False, range = [400000, 1500000]), yaxis = dict(showgrid = False, showticklabels = False, range = [400000, 1200000]))\n",
        "fig.show()\n",
        "pio.write_image(fig, file = 'Daytime CAZ Spend Frequency vs Spend Value.png', format = 'png', scale=6, width=500, height=600)"
      ]
    }
  ],
  "metadata": {
    "colab": {
      "provenance": []
    },
    "kernelspec": {
      "display_name": "Python 3",
      "name": "python3"
    },
    "language_info": {
      "codemirror_mode": {
        "name": "ipython",
        "version": 3
      },
      "file_extension": ".py",
      "mimetype": "text/x-python",
      "name": "python",
      "nbconvert_exporter": "python",
      "pygments_lexer": "ipython3",
      "version": "3.9.7"
    }
  },
  "nbformat": 4,
  "nbformat_minor": 0
}